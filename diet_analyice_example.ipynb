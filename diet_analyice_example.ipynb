{
  "nbformat": 4,
  "nbformat_minor": 0,
  "metadata": {
    "colab": {
      "provenance": [],
      "mount_file_id": "1kArtmElgfb55THx3NLSjlc2ruczxRqBD",
      "authorship_tag": "ABX9TyNQP8x48mufGLJZeFv2p0KG",
      "include_colab_link": true
    },
    "kernelspec": {
      "name": "python3",
      "display_name": "Python 3"
    },
    "language_info": {
      "name": "python"
    }
  },
  "cells": [
    {
      "cell_type": "markdown",
      "metadata": {
        "id": "view-in-github",
        "colab_type": "text"
      },
      "source": [
        "<a href=\"https://colab.research.google.com/github/eodnjsdl21/Tutoring/blob/main/diet_analyice_example.ipynb\" target=\"_parent\"><img src=\"https://colab.research.google.com/assets/colab-badge.svg\" alt=\"Open In Colab\"/></a>"
      ]
    },
    {
      "cell_type": "code",
      "execution_count": null,
      "metadata": {
        "id": "PEo4ISw6cagB"
      },
      "outputs": [],
      "source": [
        "import pandas as pd \n",
        "\n",
        "df =pd.read_csv('/content/drive/MyDrive/diet_info/online_diet - 원본데이터.csv')"
      ]
    },
    {
      "cell_type": "code",
      "source": [
        "df"
      ],
      "metadata": {
        "colab": {
          "base_uri": "https://localhost:8080/",
          "height": 956
        },
        "id": "aEq0NSrYdWVc",
        "outputId": "eeaff275-fccd-41a1-a59c-9f87eae53251"
      },
      "execution_count": null,
      "outputs": [
        {
          "output_type": "execute_result",
          "data": {
            "text/plain": [
              "         J          id  social_id1 zip_code  occupation  sex  height  weight  \\\n",
              "0       28    webinner    740101.0  137-070         6.0  1.0   170.0    62.0   \n",
              "1       29    webinner    740101.0  137-070         6.0  1.0   170.0    62.0   \n",
              "2       30    webinner    740101.0  137-070         6.0  1.0   170.0    62.0   \n",
              "3       31    webinner    740101.0  137-070         6.0  1.0   170.0    62.0   \n",
              "4       32    webinner    740101.0  137-070         6.0  1.0   170.0    62.0   \n",
              "...    ...         ...         ...      ...         ...  ...     ...     ...   \n",
              "4453  2011  0162655575    830219.0  135-080        15.0  2.0   165.0    49.0   \n",
              "4454  2012      12girl    781007.0  136-043        17.0  2.0   160.0    63.0   \n",
              "4455  2013  onlyonelhm    880330.0  327-030        15.0  2.0   159.0    58.0   \n",
              "4456  2014   morebest1    760709.0  0000000        12.0  1.0   177.0   109.0   \n",
              "4457  2015      kiya80    770426.0  660-322        12.0  2.0   156.0    49.0   \n",
              "\n",
              "      married dise  ...         loss_part diet_purpose     diet   bmi  \\\n",
              "0         0.0  NaN  ...              1, 2          3.0        4  21.0   \n",
              "1         0.0  NaN  ...              1, 2          3.0        4  21.0   \n",
              "2         0.0  NaN  ...              1, 2          3.0        4  21.0   \n",
              "3         0.0  NaN  ...              1, 2          3.0        4  21.0   \n",
              "4         0.0  NaN  ...              1, 2          3.0        4  21.0   \n",
              "...       ...  ...  ...               ...          ...      ...   ...   \n",
              "4453      0.0  NaN  ...              3, 6          1.0      NaN  17.0   \n",
              "4454      0.0    2  ...              1, 6          3.0      NaN  24.0   \n",
              "4455      0.0  NaN  ...  1, 2, 3, 4, 6, 7          1.0      NaN  22.0   \n",
              "4456      0.0  NaN  ...        1, 2, 4, 8          3.0  1, 4, 5  34.0   \n",
              "4457      0.0    1  ...              1, 6          2.0        4  20.0   \n",
              "\n",
              "     order_id        pfid                 p_name  p_price  \\\n",
              "0       16560  MDGLIKE001  오레그 O다리,X다리 교정벨트(고급형)    27000   \n",
              "1       16926  MDGLIKE001  오레그 O다리,X다리 교정벨트(고급형)    27000   \n",
              "2       16941  MDGLIKE001  오레그 O다리,X다리 교정벨트(고급형)    27000   \n",
              "3       16944  MDGLIKE001  오레그 O다리,X다리 교정벨트(고급형)    27000   \n",
              "4       16967  MDGBEAT004                아로마 장미향    20000   \n",
              "...       ...         ...                    ...      ...   \n",
              "4453    21654  MDEHRWE008          파워세라믹종아리 다이어트    29900   \n",
              "4454    21656  PDFMEAL014             풀무원 드림다이어트   300000   \n",
              "4455    21664  MDEHRWE008          파워세라믹종아리 다이어트    29900   \n",
              "4456    21665  MDFMEAL007             대상다이어트프로그램    70000   \n",
              "4457    21666  PDFMEAL016            깜짝변신 다이어트세트   130000   \n",
              "\n",
              "                  p_created p_quantity  \n",
              "0     2001-05-17 오후 1:10:38          1  \n",
              "1     2001-05-17 오후 1:26:33          1  \n",
              "2     2001-05-17 오후 2:19:23          1  \n",
              "3     2001-05-17 오후 2:27:24          1  \n",
              "4     2001-05-17 오후 4:25:11          1  \n",
              "...                     ...        ...  \n",
              "4453  2001-07-05 오후 7:17:10          1  \n",
              "4454  2001-07-05 오후 8:02:18          1  \n",
              "4455  2001-07-06 오전 1:17:45          1  \n",
              "4456  2001-07-06 오전 1:50:12          1  \n",
              "4457  2001-07-06 오전 2:27:39          1  \n",
              "\n",
              "[4458 rows x 24 columns]"
            ],
            "text/html": [
              "\n",
              "  <div id=\"df-12ed6422-0a54-4b81-9dc0-ac7d5cdec615\">\n",
              "    <div class=\"colab-df-container\">\n",
              "      <div>\n",
              "<style scoped>\n",
              "    .dataframe tbody tr th:only-of-type {\n",
              "        vertical-align: middle;\n",
              "    }\n",
              "\n",
              "    .dataframe tbody tr th {\n",
              "        vertical-align: top;\n",
              "    }\n",
              "\n",
              "    .dataframe thead th {\n",
              "        text-align: right;\n",
              "    }\n",
              "</style>\n",
              "<table border=\"1\" class=\"dataframe\">\n",
              "  <thead>\n",
              "    <tr style=\"text-align: right;\">\n",
              "      <th></th>\n",
              "      <th>J</th>\n",
              "      <th>id</th>\n",
              "      <th>social_id1</th>\n",
              "      <th>zip_code</th>\n",
              "      <th>occupation</th>\n",
              "      <th>sex</th>\n",
              "      <th>height</th>\n",
              "      <th>weight</th>\n",
              "      <th>married</th>\n",
              "      <th>dise</th>\n",
              "      <th>...</th>\n",
              "      <th>loss_part</th>\n",
              "      <th>diet_purpose</th>\n",
              "      <th>diet</th>\n",
              "      <th>bmi</th>\n",
              "      <th>order_id</th>\n",
              "      <th>pfid</th>\n",
              "      <th>p_name</th>\n",
              "      <th>p_price</th>\n",
              "      <th>p_created</th>\n",
              "      <th>p_quantity</th>\n",
              "    </tr>\n",
              "  </thead>\n",
              "  <tbody>\n",
              "    <tr>\n",
              "      <th>0</th>\n",
              "      <td>28</td>\n",
              "      <td>webinner</td>\n",
              "      <td>740101.0</td>\n",
              "      <td>137-070</td>\n",
              "      <td>6.0</td>\n",
              "      <td>1.0</td>\n",
              "      <td>170.0</td>\n",
              "      <td>62.0</td>\n",
              "      <td>0.0</td>\n",
              "      <td>NaN</td>\n",
              "      <td>...</td>\n",
              "      <td>1, 2</td>\n",
              "      <td>3.0</td>\n",
              "      <td>4</td>\n",
              "      <td>21.0</td>\n",
              "      <td>16560</td>\n",
              "      <td>MDGLIKE001</td>\n",
              "      <td>오레그 O다리,X다리 교정벨트(고급형)</td>\n",
              "      <td>27000</td>\n",
              "      <td>2001-05-17 오후 1:10:38</td>\n",
              "      <td>1</td>\n",
              "    </tr>\n",
              "    <tr>\n",
              "      <th>1</th>\n",
              "      <td>29</td>\n",
              "      <td>webinner</td>\n",
              "      <td>740101.0</td>\n",
              "      <td>137-070</td>\n",
              "      <td>6.0</td>\n",
              "      <td>1.0</td>\n",
              "      <td>170.0</td>\n",
              "      <td>62.0</td>\n",
              "      <td>0.0</td>\n",
              "      <td>NaN</td>\n",
              "      <td>...</td>\n",
              "      <td>1, 2</td>\n",
              "      <td>3.0</td>\n",
              "      <td>4</td>\n",
              "      <td>21.0</td>\n",
              "      <td>16926</td>\n",
              "      <td>MDGLIKE001</td>\n",
              "      <td>오레그 O다리,X다리 교정벨트(고급형)</td>\n",
              "      <td>27000</td>\n",
              "      <td>2001-05-17 오후 1:26:33</td>\n",
              "      <td>1</td>\n",
              "    </tr>\n",
              "    <tr>\n",
              "      <th>2</th>\n",
              "      <td>30</td>\n",
              "      <td>webinner</td>\n",
              "      <td>740101.0</td>\n",
              "      <td>137-070</td>\n",
              "      <td>6.0</td>\n",
              "      <td>1.0</td>\n",
              "      <td>170.0</td>\n",
              "      <td>62.0</td>\n",
              "      <td>0.0</td>\n",
              "      <td>NaN</td>\n",
              "      <td>...</td>\n",
              "      <td>1, 2</td>\n",
              "      <td>3.0</td>\n",
              "      <td>4</td>\n",
              "      <td>21.0</td>\n",
              "      <td>16941</td>\n",
              "      <td>MDGLIKE001</td>\n",
              "      <td>오레그 O다리,X다리 교정벨트(고급형)</td>\n",
              "      <td>27000</td>\n",
              "      <td>2001-05-17 오후 2:19:23</td>\n",
              "      <td>1</td>\n",
              "    </tr>\n",
              "    <tr>\n",
              "      <th>3</th>\n",
              "      <td>31</td>\n",
              "      <td>webinner</td>\n",
              "      <td>740101.0</td>\n",
              "      <td>137-070</td>\n",
              "      <td>6.0</td>\n",
              "      <td>1.0</td>\n",
              "      <td>170.0</td>\n",
              "      <td>62.0</td>\n",
              "      <td>0.0</td>\n",
              "      <td>NaN</td>\n",
              "      <td>...</td>\n",
              "      <td>1, 2</td>\n",
              "      <td>3.0</td>\n",
              "      <td>4</td>\n",
              "      <td>21.0</td>\n",
              "      <td>16944</td>\n",
              "      <td>MDGLIKE001</td>\n",
              "      <td>오레그 O다리,X다리 교정벨트(고급형)</td>\n",
              "      <td>27000</td>\n",
              "      <td>2001-05-17 오후 2:27:24</td>\n",
              "      <td>1</td>\n",
              "    </tr>\n",
              "    <tr>\n",
              "      <th>4</th>\n",
              "      <td>32</td>\n",
              "      <td>webinner</td>\n",
              "      <td>740101.0</td>\n",
              "      <td>137-070</td>\n",
              "      <td>6.0</td>\n",
              "      <td>1.0</td>\n",
              "      <td>170.0</td>\n",
              "      <td>62.0</td>\n",
              "      <td>0.0</td>\n",
              "      <td>NaN</td>\n",
              "      <td>...</td>\n",
              "      <td>1, 2</td>\n",
              "      <td>3.0</td>\n",
              "      <td>4</td>\n",
              "      <td>21.0</td>\n",
              "      <td>16967</td>\n",
              "      <td>MDGBEAT004</td>\n",
              "      <td>아로마 장미향</td>\n",
              "      <td>20000</td>\n",
              "      <td>2001-05-17 오후 4:25:11</td>\n",
              "      <td>1</td>\n",
              "    </tr>\n",
              "    <tr>\n",
              "      <th>...</th>\n",
              "      <td>...</td>\n",
              "      <td>...</td>\n",
              "      <td>...</td>\n",
              "      <td>...</td>\n",
              "      <td>...</td>\n",
              "      <td>...</td>\n",
              "      <td>...</td>\n",
              "      <td>...</td>\n",
              "      <td>...</td>\n",
              "      <td>...</td>\n",
              "      <td>...</td>\n",
              "      <td>...</td>\n",
              "      <td>...</td>\n",
              "      <td>...</td>\n",
              "      <td>...</td>\n",
              "      <td>...</td>\n",
              "      <td>...</td>\n",
              "      <td>...</td>\n",
              "      <td>...</td>\n",
              "      <td>...</td>\n",
              "      <td>...</td>\n",
              "    </tr>\n",
              "    <tr>\n",
              "      <th>4453</th>\n",
              "      <td>2011</td>\n",
              "      <td>0162655575</td>\n",
              "      <td>830219.0</td>\n",
              "      <td>135-080</td>\n",
              "      <td>15.0</td>\n",
              "      <td>2.0</td>\n",
              "      <td>165.0</td>\n",
              "      <td>49.0</td>\n",
              "      <td>0.0</td>\n",
              "      <td>NaN</td>\n",
              "      <td>...</td>\n",
              "      <td>3, 6</td>\n",
              "      <td>1.0</td>\n",
              "      <td>NaN</td>\n",
              "      <td>17.0</td>\n",
              "      <td>21654</td>\n",
              "      <td>MDEHRWE008</td>\n",
              "      <td>파워세라믹종아리 다이어트</td>\n",
              "      <td>29900</td>\n",
              "      <td>2001-07-05 오후 7:17:10</td>\n",
              "      <td>1</td>\n",
              "    </tr>\n",
              "    <tr>\n",
              "      <th>4454</th>\n",
              "      <td>2012</td>\n",
              "      <td>12girl</td>\n",
              "      <td>781007.0</td>\n",
              "      <td>136-043</td>\n",
              "      <td>17.0</td>\n",
              "      <td>2.0</td>\n",
              "      <td>160.0</td>\n",
              "      <td>63.0</td>\n",
              "      <td>0.0</td>\n",
              "      <td>2</td>\n",
              "      <td>...</td>\n",
              "      <td>1, 6</td>\n",
              "      <td>3.0</td>\n",
              "      <td>NaN</td>\n",
              "      <td>24.0</td>\n",
              "      <td>21656</td>\n",
              "      <td>PDFMEAL014</td>\n",
              "      <td>풀무원 드림다이어트</td>\n",
              "      <td>300000</td>\n",
              "      <td>2001-07-05 오후 8:02:18</td>\n",
              "      <td>1</td>\n",
              "    </tr>\n",
              "    <tr>\n",
              "      <th>4455</th>\n",
              "      <td>2013</td>\n",
              "      <td>onlyonelhm</td>\n",
              "      <td>880330.0</td>\n",
              "      <td>327-030</td>\n",
              "      <td>15.0</td>\n",
              "      <td>2.0</td>\n",
              "      <td>159.0</td>\n",
              "      <td>58.0</td>\n",
              "      <td>0.0</td>\n",
              "      <td>NaN</td>\n",
              "      <td>...</td>\n",
              "      <td>1, 2, 3, 4, 6, 7</td>\n",
              "      <td>1.0</td>\n",
              "      <td>NaN</td>\n",
              "      <td>22.0</td>\n",
              "      <td>21664</td>\n",
              "      <td>MDEHRWE008</td>\n",
              "      <td>파워세라믹종아리 다이어트</td>\n",
              "      <td>29900</td>\n",
              "      <td>2001-07-06 오전 1:17:45</td>\n",
              "      <td>1</td>\n",
              "    </tr>\n",
              "    <tr>\n",
              "      <th>4456</th>\n",
              "      <td>2014</td>\n",
              "      <td>morebest1</td>\n",
              "      <td>760709.0</td>\n",
              "      <td>0000000</td>\n",
              "      <td>12.0</td>\n",
              "      <td>1.0</td>\n",
              "      <td>177.0</td>\n",
              "      <td>109.0</td>\n",
              "      <td>0.0</td>\n",
              "      <td>NaN</td>\n",
              "      <td>...</td>\n",
              "      <td>1, 2, 4, 8</td>\n",
              "      <td>3.0</td>\n",
              "      <td>1, 4, 5</td>\n",
              "      <td>34.0</td>\n",
              "      <td>21665</td>\n",
              "      <td>MDFMEAL007</td>\n",
              "      <td>대상다이어트프로그램</td>\n",
              "      <td>70000</td>\n",
              "      <td>2001-07-06 오전 1:50:12</td>\n",
              "      <td>1</td>\n",
              "    </tr>\n",
              "    <tr>\n",
              "      <th>4457</th>\n",
              "      <td>2015</td>\n",
              "      <td>kiya80</td>\n",
              "      <td>770426.0</td>\n",
              "      <td>660-322</td>\n",
              "      <td>12.0</td>\n",
              "      <td>2.0</td>\n",
              "      <td>156.0</td>\n",
              "      <td>49.0</td>\n",
              "      <td>0.0</td>\n",
              "      <td>1</td>\n",
              "      <td>...</td>\n",
              "      <td>1, 6</td>\n",
              "      <td>2.0</td>\n",
              "      <td>4</td>\n",
              "      <td>20.0</td>\n",
              "      <td>21666</td>\n",
              "      <td>PDFMEAL016</td>\n",
              "      <td>깜짝변신 다이어트세트</td>\n",
              "      <td>130000</td>\n",
              "      <td>2001-07-06 오전 2:27:39</td>\n",
              "      <td>1</td>\n",
              "    </tr>\n",
              "  </tbody>\n",
              "</table>\n",
              "<p>4458 rows × 24 columns</p>\n",
              "</div>\n",
              "      <button class=\"colab-df-convert\" onclick=\"convertToInteractive('df-12ed6422-0a54-4b81-9dc0-ac7d5cdec615')\"\n",
              "              title=\"Convert this dataframe to an interactive table.\"\n",
              "              style=\"display:none;\">\n",
              "        \n",
              "  <svg xmlns=\"http://www.w3.org/2000/svg\" height=\"24px\"viewBox=\"0 0 24 24\"\n",
              "       width=\"24px\">\n",
              "    <path d=\"M0 0h24v24H0V0z\" fill=\"none\"/>\n",
              "    <path d=\"M18.56 5.44l.94 2.06.94-2.06 2.06-.94-2.06-.94-.94-2.06-.94 2.06-2.06.94zm-11 1L8.5 8.5l.94-2.06 2.06-.94-2.06-.94L8.5 2.5l-.94 2.06-2.06.94zm10 10l.94 2.06.94-2.06 2.06-.94-2.06-.94-.94-2.06-.94 2.06-2.06.94z\"/><path d=\"M17.41 7.96l-1.37-1.37c-.4-.4-.92-.59-1.43-.59-.52 0-1.04.2-1.43.59L10.3 9.45l-7.72 7.72c-.78.78-.78 2.05 0 2.83L4 21.41c.39.39.9.59 1.41.59.51 0 1.02-.2 1.41-.59l7.78-7.78 2.81-2.81c.8-.78.8-2.07 0-2.86zM5.41 20L4 18.59l7.72-7.72 1.47 1.35L5.41 20z\"/>\n",
              "  </svg>\n",
              "      </button>\n",
              "      \n",
              "  <style>\n",
              "    .colab-df-container {\n",
              "      display:flex;\n",
              "      flex-wrap:wrap;\n",
              "      gap: 12px;\n",
              "    }\n",
              "\n",
              "    .colab-df-convert {\n",
              "      background-color: #E8F0FE;\n",
              "      border: none;\n",
              "      border-radius: 50%;\n",
              "      cursor: pointer;\n",
              "      display: none;\n",
              "      fill: #1967D2;\n",
              "      height: 32px;\n",
              "      padding: 0 0 0 0;\n",
              "      width: 32px;\n",
              "    }\n",
              "\n",
              "    .colab-df-convert:hover {\n",
              "      background-color: #E2EBFA;\n",
              "      box-shadow: 0px 1px 2px rgba(60, 64, 67, 0.3), 0px 1px 3px 1px rgba(60, 64, 67, 0.15);\n",
              "      fill: #174EA6;\n",
              "    }\n",
              "\n",
              "    [theme=dark] .colab-df-convert {\n",
              "      background-color: #3B4455;\n",
              "      fill: #D2E3FC;\n",
              "    }\n",
              "\n",
              "    [theme=dark] .colab-df-convert:hover {\n",
              "      background-color: #434B5C;\n",
              "      box-shadow: 0px 1px 3px 1px rgba(0, 0, 0, 0.15);\n",
              "      filter: drop-shadow(0px 1px 2px rgba(0, 0, 0, 0.3));\n",
              "      fill: #FFFFFF;\n",
              "    }\n",
              "  </style>\n",
              "\n",
              "      <script>\n",
              "        const buttonEl =\n",
              "          document.querySelector('#df-12ed6422-0a54-4b81-9dc0-ac7d5cdec615 button.colab-df-convert');\n",
              "        buttonEl.style.display =\n",
              "          google.colab.kernel.accessAllowed ? 'block' : 'none';\n",
              "\n",
              "        async function convertToInteractive(key) {\n",
              "          const element = document.querySelector('#df-12ed6422-0a54-4b81-9dc0-ac7d5cdec615');\n",
              "          const dataTable =\n",
              "            await google.colab.kernel.invokeFunction('convertToInteractive',\n",
              "                                                     [key], {});\n",
              "          if (!dataTable) return;\n",
              "\n",
              "          const docLinkHtml = 'Like what you see? Visit the ' +\n",
              "            '<a target=\"_blank\" href=https://colab.research.google.com/notebooks/data_table.ipynb>data table notebook</a>'\n",
              "            + ' to learn more about interactive tables.';\n",
              "          element.innerHTML = '';\n",
              "          dataTable['output_type'] = 'display_data';\n",
              "          await google.colab.output.renderOutput(dataTable, element);\n",
              "          const docLink = document.createElement('div');\n",
              "          docLink.innerHTML = docLinkHtml;\n",
              "          element.appendChild(docLink);\n",
              "        }\n",
              "      </script>\n",
              "    </div>\n",
              "  </div>\n",
              "  "
            ]
          },
          "metadata": {},
          "execution_count": 2
        }
      ]
    },
    {
      "cell_type": "code",
      "source": [
        "import pandas as pd\n",
        "import matplotlib.pyplot as plt\n",
        "\n",
        "# 성별에 따른 키와 몸무게 분포 시각화\n",
        "plt.scatter(df[df['sex']==1]['height'], df[df['sex']==1]['weight'], label='male')\n",
        "plt.scatter(df[df['sex']==2]['height'], df[df['sex']==2]['weight'], label='female')\n",
        "plt.xlabel('Height')\n",
        "plt.ylabel('Weight')\n",
        "plt.legend()\n",
        "plt.show()\n",
        "\n",
        "#여성이 많고 \n",
        "#몸무게 가 "
      ],
      "metadata": {
        "colab": {
          "base_uri": "https://localhost:8080/",
          "height": 279
        },
        "id": "5DFPJWGkdXD9",
        "outputId": "2323069f-c5bd-453e-d1be-ef7016229248"
      },
      "execution_count": null,
      "outputs": [
        {
          "output_type": "display_data",
          "data": {
            "text/plain": [
              "<Figure size 432x288 with 1 Axes>"
            ],
            "image/png": "[encoded data removed]"
          },
          "metadata": {
            "needs_background": "light"
          }
        }
      ]
    },
    {
      "cell_type": "code",
      "source": [
        "import pandas as pd\n",
        "from sklearn.cluster import KMeans\n",
        "from sklearn.preprocessing import StandardScaler\n",
        "\n",
        "# 분석에 활용할 열 추출\n",
        "columns = ['age', 'p_price']\n",
        "\n",
        "# 데이터 스케일링\n",
        "scaler = StandardScaler()\n",
        "scaled_data = scaler.fit_transform(df[columns])\n",
        "\n",
        "# 군집 분석 수행\n",
        "kmeans = KMeans(n_clusters=3, random_state=42)\n",
        "kmeans.fit(scaled_data)\n",
        "\n",
        "# 분석 결과 출력\n",
        "df['cluster'] = kmeans.labels_\n"
      ],
      "metadata": {
        "id": "UOi_HUoUeIcN",
        "colab": {
          "base_uri": "https://localhost:8080/",
          "height": 408
        },
        "outputId": "31a0eb16-eb7f-4dcc-879a-b8f9b1d4c1a2"
      },
      "execution_count": null,
      "outputs": [
        {
          "output_type": "error",
          "ename": "KeyError",
          "evalue": "ignored",
          "traceback": [
            "\u001b[0;31m---------------------------------------------------------------------------\u001b[0m",
            "\u001b[0;31mKeyError\u001b[0m                                  Traceback (most recent call last)",
            "\u001b[0;32m<ipython-input-5-7792d2546ed6>\u001b[0m in \u001b[0;36m<module>\u001b[0;34m\u001b[0m\n\u001b[1;32m      8\u001b[0m \u001b[0;31m# 데이터 스케일링\u001b[0m\u001b[0;34m\u001b[0m\u001b[0;34m\u001b[0m\u001b[0m\n\u001b[1;32m      9\u001b[0m \u001b[0mscaler\u001b[0m \u001b[0;34m=\u001b[0m \u001b[0mStandardScaler\u001b[0m\u001b[0;34m(\u001b[0m\u001b[0;34m)\u001b[0m\u001b[0;34m\u001b[0m\u001b[0;34m\u001b[0m\u001b[0m\n\u001b[0;32m---> 10\u001b[0;31m \u001b[0mscaled_data\u001b[0m \u001b[0;34m=\u001b[0m \u001b[0mscaler\u001b[0m\u001b[0;34m.\u001b[0m\u001b[0mfit_transform\u001b[0m\u001b[0;34m(\u001b[0m\u001b[0mdf\u001b[0m\u001b[0;34m[\u001b[0m\u001b[0mcolumns\u001b[0m\u001b[0;34m]\u001b[0m\u001b[0;34m)\u001b[0m\u001b[0;34m\u001b[0m\u001b[0;34m\u001b[0m\u001b[0m\n\u001b[0m\u001b[1;32m     11\u001b[0m \u001b[0;34m\u001b[0m\u001b[0m\n\u001b[1;32m     12\u001b[0m \u001b[0;31m# 군집 분석 수행\u001b[0m\u001b[0;34m\u001b[0m\u001b[0;34m\u001b[0m\u001b[0m\n",
            "\u001b[0;32m/usr/local/lib/python3.9/dist-packages/pandas/core/frame.py\u001b[0m in \u001b[0;36m__getitem__\u001b[0;34m(self, key)\u001b[0m\n\u001b[1;32m   3509\u001b[0m             \u001b[0;32mif\u001b[0m \u001b[0mis_iterator\u001b[0m\u001b[0;34m(\u001b[0m\u001b[0mkey\u001b[0m\u001b[0;34m)\u001b[0m\u001b[0;34m:\u001b[0m\u001b[0;34m\u001b[0m\u001b[0;34m\u001b[0m\u001b[0m\n\u001b[1;32m   3510\u001b[0m                 \u001b[0mkey\u001b[0m \u001b[0;34m=\u001b[0m \u001b[0mlist\u001b[0m\u001b[0;34m(\u001b[0m\u001b[0mkey\u001b[0m\u001b[0;34m)\u001b[0m\u001b[0;34m\u001b[0m\u001b[0;34m\u001b[0m\u001b[0m\n\u001b[0;32m-> 3511\u001b[0;31m             \u001b[0mindexer\u001b[0m \u001b[0;34m=\u001b[0m \u001b[0mself\u001b[0m\u001b[0;34m.\u001b[0m\u001b[0mcolumns\u001b[0m\u001b[0;34m.\u001b[0m\u001b[0m_get_indexer_strict\u001b[0m\u001b[0;34m(\u001b[0m\u001b[0mkey\u001b[0m\u001b[0;34m,\u001b[0m \u001b[0;34m\"columns\"\u001b[0m\u001b[0;34m)\u001b[0m\u001b[0;34m[\u001b[0m\u001b[0;36m1\u001b[0m\u001b[0;34m]\u001b[0m\u001b[0;34m\u001b[0m\u001b[0;34m\u001b[0m\u001b[0m\n\u001b[0m\u001b[1;32m   3512\u001b[0m \u001b[0;34m\u001b[0m\u001b[0m\n\u001b[1;32m   3513\u001b[0m         \u001b[0;31m# take() does not accept boolean indexers\u001b[0m\u001b[0;34m\u001b[0m\u001b[0;34m\u001b[0m\u001b[0m\n",
            "\u001b[0;32m/usr/local/lib/python3.9/dist-packages/pandas/core/indexes/base.py\u001b[0m in \u001b[0;36m_get_indexer_strict\u001b[0;34m(self, key, axis_name)\u001b[0m\n\u001b[1;32m   5794\u001b[0m             \u001b[0mkeyarr\u001b[0m\u001b[0;34m,\u001b[0m \u001b[0mindexer\u001b[0m\u001b[0;34m,\u001b[0m \u001b[0mnew_indexer\u001b[0m \u001b[0;34m=\u001b[0m \u001b[0mself\u001b[0m\u001b[0;34m.\u001b[0m\u001b[0m_reindex_non_unique\u001b[0m\u001b[0;34m(\u001b[0m\u001b[0mkeyarr\u001b[0m\u001b[0;34m)\u001b[0m\u001b[0;34m\u001b[0m\u001b[0;34m\u001b[0m\u001b[0m\n\u001b[1;32m   5795\u001b[0m \u001b[0;34m\u001b[0m\u001b[0m\n\u001b[0;32m-> 5796\u001b[0;31m         \u001b[0mself\u001b[0m\u001b[0;34m.\u001b[0m\u001b[0m_raise_if_missing\u001b[0m\u001b[0;34m(\u001b[0m\u001b[0mkeyarr\u001b[0m\u001b[0;34m,\u001b[0m \u001b[0mindexer\u001b[0m\u001b[0;34m,\u001b[0m \u001b[0maxis_name\u001b[0m\u001b[0;34m)\u001b[0m\u001b[0;34m\u001b[0m\u001b[0;34m\u001b[0m\u001b[0m\n\u001b[0m\u001b[1;32m   5797\u001b[0m \u001b[0;34m\u001b[0m\u001b[0m\n\u001b[1;32m   5798\u001b[0m         \u001b[0mkeyarr\u001b[0m \u001b[0;34m=\u001b[0m \u001b[0mself\u001b[0m\u001b[0;34m.\u001b[0m\u001b[0mtake\u001b[0m\u001b[0;34m(\u001b[0m\u001b[0mindexer\u001b[0m\u001b[0;34m)\u001b[0m\u001b[0;34m\u001b[0m\u001b[0;34m\u001b[0m\u001b[0m\n",
            "\u001b[0;32m/usr/local/lib/python3.9/dist-packages/pandas/core/indexes/base.py\u001b[0m in \u001b[0;36m_raise_if_missing\u001b[0;34m(self, key, indexer, axis_name)\u001b[0m\n\u001b[1;32m   5857\u001b[0m \u001b[0;34m\u001b[0m\u001b[0m\n\u001b[1;32m   5858\u001b[0m             \u001b[0mnot_found\u001b[0m \u001b[0;34m=\u001b[0m \u001b[0mlist\u001b[0m\u001b[0;34m(\u001b[0m\u001b[0mensure_index\u001b[0m\u001b[0;34m(\u001b[0m\u001b[0mkey\u001b[0m\u001b[0;34m)\u001b[0m\u001b[0;34m[\u001b[0m\u001b[0mmissing_mask\u001b[0m\u001b[0;34m.\u001b[0m\u001b[0mnonzero\u001b[0m\u001b[0;34m(\u001b[0m\u001b[0;34m)\u001b[0m\u001b[0;34m[\u001b[0m\u001b[0;36m0\u001b[0m\u001b[0;34m]\u001b[0m\u001b[0;34m]\u001b[0m\u001b[0;34m.\u001b[0m\u001b[0munique\u001b[0m\u001b[0;34m(\u001b[0m\u001b[0;34m)\u001b[0m\u001b[0;34m)\u001b[0m\u001b[0;34m\u001b[0m\u001b[0;34m\u001b[0m\u001b[0m\n\u001b[0;32m-> 5859\u001b[0;31m             \u001b[0;32mraise\u001b[0m \u001b[0mKeyError\u001b[0m\u001b[0;34m(\u001b[0m\u001b[0;34mf\"{not_found} not in index\"\u001b[0m\u001b[0;34m)\u001b[0m\u001b[0;34m\u001b[0m\u001b[0;34m\u001b[0m\u001b[0m\n\u001b[0m\u001b[1;32m   5860\u001b[0m \u001b[0;34m\u001b[0m\u001b[0m\n\u001b[1;32m   5861\u001b[0m     \u001b[0;34m@\u001b[0m\u001b[0moverload\u001b[0m\u001b[0;34m\u001b[0m\u001b[0;34m\u001b[0m\u001b[0m\n",
            "\u001b[0;31mKeyError\u001b[0m: \"['age'] not in index\""
          ]
        }
      ]
    },
    {
      "cell_type": "code",
      "source": [
        "import pandas as pd \n",
        "\n",
        "df =pd.read_csv('/content/drive/MyDrive/diet_info/online_diet - 원본데이터.csv')"
      ],
      "metadata": {
        "id": "R9t9gfmk7KI9"
      },
      "execution_count": null,
      "outputs": []
    },
    {
      "cell_type": "code",
      "source": [
        "import pandas as pd\n",
        "\n",
        "# 주민등록번호에서 출생년도 추출\n",
        "df['social_id1'] = df['social_id1'].astype(str).str[:2]\n",
        "df['social_id1']= '19' + df['social_id1']\n",
        "df = df[df['social_id1'] != '19na']\n",
        "\n",
        "# 2005년 때의 나이 계산\n",
        "df['age']=df['social_id1'].astype(int) + 1"
      ],
      "metadata": {
        "id": "pvRoxGVBf9E6"
      },
      "execution_count": null,
      "outputs": []
    },
    {
      "cell_type": "code",
      "source": [
        "df['social_id1']"
      ],
      "metadata": {
        "colab": {
          "base_uri": "https://localhost:8080/"
        },
        "id": "EnYcHpKJ7UP2",
        "outputId": "d31b4894-10bf-40f2-a2a1-263148d9d89d"
      },
      "execution_count": null,
      "outputs": [
        {
          "output_type": "execute_result",
          "data": {
            "text/plain": [
              "0       1974\n",
              "1       1974\n",
              "2       1974\n",
              "3       1974\n",
              "4       1974\n",
              "        ... \n",
              "4453    1983\n",
              "4454    1978\n",
              "4455    1988\n",
              "4456    1976\n",
              "4457    1977\n",
              "Name: social_id1, Length: 4457, dtype: object"
            ]
          },
          "metadata": {},
          "execution_count": 28
        }
      ]
    },
    {
      "cell_type": "code",
      "source": [
        "df['age']"
      ],
      "metadata": {
        "colab": {
          "base_uri": "https://localhost:8080/"
        },
        "id": "94VGrACH8dSR",
        "outputId": "3843d6d1-7328-494f-8543-e602b90c04a8"
      },
      "execution_count": null,
      "outputs": [
        {
          "output_type": "execute_result",
          "data": {
            "text/plain": [
              "0       1975\n",
              "1       1975\n",
              "2       1975\n",
              "3       1975\n",
              "4       1975\n",
              "        ... \n",
              "4453    1984\n",
              "4454    1979\n",
              "4455    1989\n",
              "4456    1977\n",
              "4457    1978\n",
              "Name: age, Length: 4457, dtype: int64"
            ]
          },
          "metadata": {},
          "execution_count": 30
        }
      ]
    },
    {
      "cell_type": "code",
      "source": [
        "# 2005년 때의 나이 계산\n",
        "df['age']=df['social_id1'].astype(int) + 1\n",
        "df['age'] = 2000 -df['age']"
      ],
      "metadata": {
        "id": "0K5ncOZY63ZO"
      },
      "execution_count": null,
      "outputs": []
    },
    {
      "cell_type": "code",
      "source": [
        "df['social_id1']"
      ],
      "metadata": {
        "colab": {
          "base_uri": "https://localhost:8080/"
        },
        "id": "XKu8QpW9gOjg",
        "outputId": "c10b8c5b-6a66-4afe-926f-b5a44c5fae9a"
      },
      "execution_count": null,
      "outputs": [
        {
          "output_type": "execute_result",
          "data": {
            "text/plain": [
              "0       1974\n",
              "1       1974\n",
              "2       1974\n",
              "3       1974\n",
              "4       1974\n",
              "        ... \n",
              "4453    1983\n",
              "4454    1978\n",
              "4455    1988\n",
              "4456    1976\n",
              "4457    1977\n",
              "Name: social_id1, Length: 4458, dtype: object"
            ]
          },
          "metadata": {},
          "execution_count": 9
        }
      ]
    },
    {
      "cell_type": "code",
      "source": [
        "df = pd.read_csv('/content/drive/MyDrive/diet_info/online_diet - 원본데이터.csv')"
      ],
      "metadata": {
        "id": "u7NkxLZ_klpr"
      },
      "execution_count": null,
      "outputs": []
    },
    {
      "cell_type": "code",
      "source": [
        "df['social_id1'].info()"
      ],
      "metadata": {
        "colab": {
          "base_uri": "https://localhost:8080/"
        },
        "id": "VeIdyJrek1Iz",
        "outputId": "844310ab-9428-4f97-fc48-2d64f869436a"
      },
      "execution_count": null,
      "outputs": [
        {
          "output_type": "stream",
          "name": "stdout",
          "text": [
            "<class 'pandas.core.series.Series'>\n",
            "RangeIndex: 4458 entries, 0 to 4457\n",
            "Series name: social_id1\n",
            "Non-Null Count  Dtype  \n",
            "--------------  -----  \n",
            "4457 non-null   float64\n",
            "dtypes: float64(1)\n",
            "memory usage: 35.0 KB\n"
          ]
        }
      ]
    },
    {
      "cell_type": "code",
      "source": [
        "# social_id에서 birth_year 출력하기\n",
        "df['social_id1']=df['social_id1'].astype(str)\n",
        "df['birth_year'] = df['social_id1'].str[:2]\n",
        "df.drop(df[df[\"birth_year\"]=='na'].index,inplace=True)\n",
        "df['birth_year'] = df['birth_year'].astype(int)\n",
        "df['birth_year'] = df['birth_year'] + 1900\n",
        "df['birth_year'] =2000-df['birth_year'] \n",
        "df['birth_year'].unique()"
      ],
      "metadata": {
        "colab": {
          "base_uri": "https://localhost:8080/"
        },
        "id": "rHB23hmjndo-",
        "outputId": "02b8a441-22fe-4569-ec4b-5b6c145b1493"
      },
      "execution_count": null,
      "outputs": [
        {
          "output_type": "execute_result",
          "data": {
            "text/plain": [
              "array([26, 24, 25, 16, 35, 27, 20, 18, 23, 21, 22, 19, 34, 29, 28, 31, 30,\n",
              "       43, 32, 17, 40, 37, 42, 38, 36, 33, 41, 46, 15, 14, 44, 12, 13, 39,\n",
              "       45, 11, 50, 49, 47, 48, 53, 55])"
            ]
          },
          "metadata": {},
          "execution_count": 44
        }
      ]
    },
    {
      "cell_type": "code",
      "source": [
        "df['age_category'] = (df['birth_year'] // 10) * 10"
      ],
      "metadata": {
        "id": "9qTKdgfIspmK"
      },
      "execution_count": null,
      "outputs": []
    },
    {
      "cell_type": "code",
      "source": [
        "df['age_category'].unique()"
      ],
      "metadata": {
        "colab": {
          "base_uri": "https://localhost:8080/"
        },
        "id": "2bfBsfNwmZRO",
        "outputId": "9d901832-d659-4338-8006-a26800e50840"
      },
      "execution_count": null,
      "outputs": [
        {
          "output_type": "execute_result",
          "data": {
            "text/plain": [
              "array([20, 10, 30, 40, 50])"
            ]
          },
          "metadata": {},
          "execution_count": 46
        }
      ]
    },
    {
      "cell_type": "code",
      "source": [
        "df.columns"
      ],
      "metadata": {
        "colab": {
          "base_uri": "https://localhost:8080/"
        },
        "id": "lLWlKyWDtfbT",
        "outputId": "6768ff73-8f95-4b1c-dc64-ea894ef254e2"
      },
      "execution_count": null,
      "outputs": [
        {
          "output_type": "execute_result",
          "data": {
            "text/plain": [
              "Index(['J', 'id', 'social_id1', 'zip_code', 'occupation', 'sex', 'height',\n",
              "       'weight', 'married', 'dise', 'want_diet', 'created', 'waist', 'heap',\n",
              "       'loss_part', 'diet_purpose', 'diet', 'bmi', 'order_id', 'pfid',\n",
              "       'p_name', 'p_price', 'p_created', 'p_quantity', 'birth_year',\n",
              "       'age_category'],\n",
              "      dtype='object')"
            ]
          },
          "metadata": {},
          "execution_count": 47
        }
      ]
    },
    {
      "cell_type": "code",
      "source": [
        "df.groupby('age_category')['p_price'].sum()"
      ],
      "metadata": {
        "colab": {
          "base_uri": "https://localhost:8080/"
        },
        "id": "suNMM2FOpCZK",
        "outputId": "66c2eb75-2a65-4cdc-de3a-42aa1bd88a7a"
      },
      "execution_count": null,
      "outputs": [
        {
          "output_type": "execute_result",
          "data": {
            "text/plain": [
              "age_category\n",
              "10     33984500\n",
              "20    136321200\n",
              "30     30901750\n",
              "40      3768100\n",
              "50       168500\n",
              "Name: p_price, dtype: int64"
            ]
          },
          "metadata": {},
          "execution_count": 48
        }
      ]
    },
    {
      "cell_type": "markdown",
      "source": [
        "#Target:\n",
        "20대의 구매율을 압도적이다 \n",
        "1. 20대 여성을 타겟팅으로 한다. \n",
        "- 잠재고개 발굴"
      ],
      "metadata": {
        "id": "wcmYpj5BxHlA"
      }
    },
    {
      "cell_type": "code",
      "source": [
        "import pandas as pd\n",
        "import matplotlib.pyplot as plt\n",
        "\n",
        "# 나이별 구매금액 합계 계산\n",
        "age_price_sum = df.groupby('age_category')['p_price'].sum()\n",
        "\n",
        "# 막대 그래프 시각화\n",
        "plt.bar(age_price_sum.index, age_price_sum.values)\n",
        "plt.xlabel('Age Category')\n",
        "plt.ylabel('Total Purchase Amount')\n",
        "plt.show()"
      ],
      "metadata": {
        "colab": {
          "base_uri": "https://localhost:8080/",
          "height": 290
        },
        "id": "h8qKx6TNtmAT",
        "outputId": "316d02a5-25c1-45ce-ea9b-2abc1620f545"
      },
      "execution_count": null,
      "outputs": [
        {
          "output_type": "display_data",
          "data": {
            "text/plain": [
              "<Figure size 432x288 with 1 Axes>"
            ],
            "image/png": "[encoded data removed]"
          },
          "metadata": {
            "needs_background": "light"
          }
        }
      ]
    },
    {
      "cell_type": "markdown",
      "source": [
        "##RFM 분석이란?\n",
        "RFM은 Recency(최근성), Frequency(빈도), Monetary(금액)의 약자입니다. RFM 분석은 고객의 구매 패턴을 파악하여 고객을 세분화하고, 각 그룹의 특성에 맞는 마케팅 전략을 수립하는 데 활용됩니다.\n",
        "\n",
        "Recency(최근성): 고객이 마지막 구매를 한 날짜로부터 얼마나 오랜 시간이 지났는지를 나타냅니다. 최근 구매를 한 고객일수록 값이 높습니다.\n",
        "Frequency(빈도): 고객이 얼마나 자주 구매하는지를 나타냅니다. 높을수록 값이 높습니다.\n",
        "Monetary(금액): 고객이 구매한 금액을 나타냅니다. 높을수록 값이 높습니다."
      ],
      "metadata": {
        "id": "OCfyRTNYtGei"
      }
    },
    {
      "cell_type": "code",
      "source": [
        "import pandas as pd\n",
        "\n",
        "df = pd.read_csv('/content/drive/MyDrive/diet_info/online_diet - 원본데이터.csv')"
      ],
      "metadata": {
        "id": "Jtw-vp8Hty6t"
      },
      "execution_count": 3,
      "outputs": []
    },
    {
      "cell_type": "code",
      "source": [
        "# 시간 데이터로 변경해 주기\n",
        "df['p_created'] = df['p_created'].str.replace(r'\\s.*', '', regex=True)\n",
        "df['p_created'] = pd.to_datetime(df['p_created'])"
      ],
      "metadata": {
        "id": "2pKDYUs5yoRC"
      },
      "execution_count": 4,
      "outputs": []
    },
    {
      "cell_type": "markdown",
      "source": [
        "목적: 최근에 구매한 이력이 높은 구매자들을 선별하는 것  \n",
        "기준일: 가장 마지막에 구매된 상품의 일자  \n",
        "방법: 모든 상품의 구매 일자를 계산하여 기준일로부터 가장 최근에 구매한 이력이 높은 구매자들을 선별한다."
      ],
      "metadata": {
        "id": "enVkVNVRBI-v"
      }
    },
    {
      "cell_type": "code",
      "source": [
        "# Recency 계산\n",
        "max_date = df['p_created'].max()\n",
        "df['recency'] = (max_date - df['p_created']).dt.days"
      ],
      "metadata": {
        "id": "iAKfLnD1zH67"
      },
      "execution_count": 11,
      "outputs": []
    },
    {
      "cell_type": "code",
      "source": [
        "max_date"
      ],
      "metadata": {
        "colab": {
          "base_uri": "https://localhost:8080/"
        },
        "id": "UstaDNBz8ZuG",
        "outputId": "2b1dd4cf-26bc-4449-c294-bb3efffd8d12"
      },
      "execution_count": 7,
      "outputs": [
        {
          "output_type": "execute_result",
          "data": {
            "text/plain": [
              "Timestamp('2001-08-28 00:00:00')"
            ]
          },
          "metadata": {},
          "execution_count": 7
        }
      ]
    },
    {
      "cell_type": "code",
      "source": [
        "# Frequency 계산\n",
        "freq = df.groupby('id')['order_id'].nunique()\n",
        "df_freq = pd.DataFrame({'id': freq.index, 'frequency': freq.values})\n",
        "df = df.merge(df_freq, on='id')"
      ],
      "metadata": {
        "id": "sHG3MUuJziZb"
      },
      "execution_count": 8,
      "outputs": []
    },
    {
      "cell_type": "code",
      "source": [
        "# Monetary 계산\n",
        "monetary = df.groupby('id')['p_price'].sum()\n",
        "df_monetary = pd.DataFrame({'id': monetary.index, 'monetary': monetary.values})\n",
        "df = df.merge(df_monetary, on='id')"
      ],
      "metadata": {
        "id": "hlN6tg4IyF0R"
      },
      "execution_count": 9,
      "outputs": []
    },
    {
      "cell_type": "markdown",
      "source": [
        "1차적 분류:  \n",
        "R F M 각각에 대해서   \n",
        "80% 이상 구매가 발생한 구매자들을 **High 소비자**  \n",
        "나머지는 **Low 소비자**로 분류"
      ],
      "metadata": {
        "id": "0Eo4UJZ0B0c0"
      }
    },
    {
      "cell_type": "code",
      "source": [
        "# RFM 분석\n",
        "quantiles = df[['recency', 'frequency', 'monetary']].quantile(q=[0.8]) #높을 수록 좋은 것 \n",
        "df['R'] = pd.cut(df['recency'], bins=[-1, quantiles['recency'].values[0], df['recency'].max()], labels=['High', 'Low']) #최근성은 반대로 설정\n",
        "df['F'] = pd.cut(df['frequency'], bins=[-1, quantiles['frequency'].values[0], df['frequency'].max()], labels=['Low', 'High'])\n",
        "df['M'] = pd.cut(df['monetary'], bins=[-1, quantiles['monetary'].values[0], df['monetary'].max()], labels=['Low', 'High'])"
      ],
      "metadata": {
        "id": "quXQ4k2j0nUk"
      },
      "execution_count": 25,
      "outputs": []
    },
    {
      "cell_type": "code",
      "source": [
        "# VIP, Regular, Low 분류\n",
        "df['RFM'] = df['R'].astype(str) + df['F'].astype(str) + df['M'].astype(str)"
      ],
      "metadata": {
        "id": "_LvnVMeN1A8T"
      },
      "execution_count": 26,
      "outputs": []
    },
    {
      "cell_type": "code",
      "source": [
        "df['RFM']"
      ],
      "metadata": {
        "colab": {
          "base_uri": "https://localhost:8080/"
        },
        "id": "ZoXwFQkj91i7",
        "outputId": "fd416b51-d0e8-4f6b-f4b2-691b6083dc76"
      },
      "execution_count": 27,
      "outputs": [
        {
          "output_type": "execute_result",
          "data": {
            "text/plain": [
              "0       LowHighHigh\n",
              "1       LowHighHigh\n",
              "2       LowHighHigh\n",
              "3       LowHighHigh\n",
              "4       LowHighHigh\n",
              "           ...     \n",
              "4453     HighLowLow\n",
              "4454    HighLowHigh\n",
              "4455     HighLowLow\n",
              "4456     HighLowLow\n",
              "4457    HighLowHigh\n",
              "Name: RFM, Length: 4458, dtype: object"
            ]
          },
          "metadata": {},
          "execution_count": 27
        }
      ]
    },
    {
      "cell_type": "code",
      "source": [
        "#H의 개수에 따라서 등급을 구분한다.\n",
        "def rfm_category(x):\n",
        "    if x.count('H') == 3:\n",
        "        return 'VIP'\n",
        "    elif x.count('H') == 2:\n",
        "        return 'REGULAR'\n",
        "    else:\n",
        "        return 'LOW'\n",
        "\n",
        "df['RFM_type'] = df['RFM'].apply(rfm_category)"
      ],
      "metadata": {
        "id": "UDwcdsx91_WO"
      },
      "execution_count": 28,
      "outputs": []
    },
    {
      "cell_type": "code",
      "source": [
        "import pandas as pd\n",
        "import matplotlib.pyplot as plt\n",
        "\n",
        "# 등급별 구매금액 합계 계산\n",
        "age_price_sum = df.groupby('RFM_type')['p_price'].sum()\n",
        "\n",
        "# 막대 그래프 시각화\n",
        "plt.bar(age_price_sum.index, age_price_sum.values)\n",
        "plt.xlabel('Age Category')\n",
        "plt.ylabel('Total Purchase Amount')\n",
        "plt.show()"
      ],
      "metadata": {
        "colab": {
          "base_uri": "https://localhost:8080/",
          "height": 290
        },
        "id": "8u_dS0JC975M",
        "outputId": "86f8088b-c0c5-451b-c190-126e27eb2063"
      },
      "execution_count": 29,
      "outputs": [
        {
          "output_type": "display_data",
          "data": {
            "text/plain": [
              "<Figure size 432x288 with 1 Axes>"
            ],
            "image/png": "[encoded data removed]"
          },
          "metadata": {
            "needs_background": "light"
          }
        }
      ]
    },
    {
      "cell_type": "markdown",
      "source": [
        "등급별로 \n",
        "\n",
        "인당 13개 4개 0.6개를 구매한 다는 것을 알 수 있다.\n",
        "여기에서 알 수 있는것은 등급이 높은 쪽을 공략하는 것이 효율이 높다는 것이다.  "
      ],
      "metadata": {
        "id": "DNNRfMXMiMFq"
      }
    },
    {
      "cell_type": "code",
      "source": [
        "import pandas as pd\n",
        "\n",
        "# RFM_type 별 'p_price' 합계 계산\n",
        "total_p_price = df['p_price'].sum()\n",
        "rfm_p_price = df.groupby('RFM_type')['p_price'].sum()\n",
        "\n",
        "# RFM_type 별 'p_price' 비율 계산\n",
        "rfm_p_price_ratio = rfm_p_price / total_p_price * 100\n",
        "\n",
        "# 결과 출력\n",
        "print(f\"Total p_price sum: {total_p_price}\")\n",
        "print(f\"\\nRFM_type's p_price ratio:\\n{rfm_p_price_ratio}\")"
      ],
      "metadata": {
        "colab": {
          "base_uri": "https://localhost:8080/"
        },
        "id": "XNqFGlGigJKb",
        "outputId": "83e575c0-3e2b-4f26-b48e-dd2f8c8cae3f"
      },
      "execution_count": 39,
      "outputs": [
        {
          "output_type": "stream",
          "name": "stdout",
          "text": [
            "Total p_price sum: 205193050\n",
            "\n",
            "RFM_type's p_price ratio:\n",
            "RFM_type\n",
            "LOW        50.523958\n",
            "REGULAR    35.749481\n",
            "VIP        13.726561\n",
            "Name: p_price, dtype: float64\n"
          ]
        }
      ]
    },
    {
      "cell_type": "code",
      "source": [
        "vip_ids = df[df['RFM_type'] == 'VIP']['id']\n",
        "print(vip_ids)"
      ],
      "metadata": {
        "colab": {
          "base_uri": "https://localhost:8080/"
        },
        "id": "HlvHRUdX1Lhj",
        "outputId": "4da9c94a-2e60-48ee-d50b-349e766a8d64"
      },
      "execution_count": 30,
      "outputs": [
        {
          "output_type": "stream",
          "name": "stdout",
          "text": [
            "10      webinner\n",
            "11      webinner\n",
            "12      webinner\n",
            "13      webinner\n",
            "14      webinner\n",
            "          ...   \n",
            "4094      in0802\n",
            "4095      in0802\n",
            "4096      in0802\n",
            "4097      in0802\n",
            "4098      in0802\n",
            "Name: id, Length: 310, dtype: object\n"
          ]
        }
      ]
    },
    {
      "cell_type": "code",
      "source": [
        "vip_ids.unique()"
      ],
      "metadata": {
        "colab": {
          "base_uri": "https://localhost:8080/"
        },
        "id": "0cA8k0l846tS",
        "outputId": "cc76e741-c028-4fb6-92dc-d25f969d3862"
      },
      "execution_count": 33,
      "outputs": [
        {
          "output_type": "execute_result",
          "data": {
            "text/plain": [
              "array(['webinner', 'jane', 'osk68', 'pporolee', 'csun75', 'gooddiet',\n",
              "       'dangwha', 'uni1126', 'bijeeng', 'edko', 'jiyuni01', 'prikim',\n",
              "       'youngya624', 'pooh0423', 'ivy0222', 'sungjil', 'boram326',\n",
              "       'qorekd', 'pak7189', 'girl1212', 'juliehanul', 'byunmi',\n",
              "       'moya1977', 'kongjukang', 'hyewon63', 'thdrudfkd', 'dugun2',\n",
              "       'beat0921', 'hye3535', 'yksphj', 'depty', 'seollan', 'angelmink',\n",
              "       'joy357', 'hyuna87', 'rja0427', 'kobacksa', 'sunnyyoon7', 'fennel',\n",
              "       'minju127', 'rosareo', 'chubbygirl', 'envyii', 'as12as12',\n",
              "       'kwon114', 'thwanga', 'lonelyi', 'wjy17', 'lej7300', 'ljh0407',\n",
              "       'dvdvdip', 'tiamor', '1415', 'youi1976', 'ksk0808', 'perdend',\n",
              "       'in0802'], dtype=object)"
            ]
          },
          "metadata": {},
          "execution_count": 33
        }
      ]
    },
    {
      "cell_type": "markdown",
      "source": [
        "등급별 분류수 파악"
      ],
      "metadata": {
        "id": "tT7IPIW3Cqig"
      }
    },
    {
      "cell_type": "code",
      "source": [
        "count = len(df[df['RFM_type']=='VIP'])\n",
        "print(count)"
      ],
      "metadata": {
        "colab": {
          "base_uri": "https://localhost:8080/"
        },
        "id": "xxorMsrf48uh",
        "outputId": "f0502354-976e-412d-a702-685edb0f495c"
      },
      "execution_count": 34,
      "outputs": [
        {
          "output_type": "stream",
          "name": "stdout",
          "text": [
            "310\n"
          ]
        }
      ]
    },
    {
      "cell_type": "code",
      "source": [
        "count = len(df[df['RFM_type']=='REGULAR'])\n",
        "print(count)"
      ],
      "metadata": {
        "colab": {
          "base_uri": "https://localhost:8080/"
        },
        "id": "YDAOPyfrAHhn",
        "outputId": "b4d82682-2044-4a93-f881-66aa04e0c082"
      },
      "execution_count": 35,
      "outputs": [
        {
          "output_type": "stream",
          "name": "stdout",
          "text": [
            "615\n"
          ]
        }
      ]
    },
    {
      "cell_type": "code",
      "source": [
        "count = len(df[df['RFM_type']=='LOW'])\n",
        "print(count)"
      ],
      "metadata": {
        "colab": {
          "base_uri": "https://localhost:8080/"
        },
        "id": "1x64UmabG2CE",
        "outputId": "9f938a7a-1e61-44a1-bf4e-5fe3b7947393"
      },
      "execution_count": 36,
      "outputs": [
        {
          "output_type": "stream",
          "name": "stdout",
          "text": [
            "3533\n"
          ]
        }
      ]
    },
    {
      "cell_type": "code",
      "source": [
        "df['RFM_type'].value_counts()"
      ],
      "metadata": {
        "colab": {
          "base_uri": "https://localhost:8080/"
        },
        "id": "a2CNXtvxHlEQ",
        "outputId": "09cc7759-aa4f-447e-9ba8-77d65121d29e"
      },
      "execution_count": 37,
      "outputs": [
        {
          "output_type": "execute_result",
          "data": {
            "text/plain": [
              "LOW        3533\n",
              "REGULAR     615\n",
              "VIP         310\n",
              "Name: RFM_type, dtype: int64"
            ]
          },
          "metadata": {},
          "execution_count": 37
        }
      ]
    },
    {
      "cell_type": "code",
      "source": [
        "import pandas as pd\n",
        "import matplotlib.pyplot as plt\n",
        "\n",
        "# 중복되는 'id'를 제거\n",
        "df_unique = df.drop_duplicates(subset=['id'])\n",
        "\n",
        "# RFM_type 별 'id' 개수 계산\n",
        "rfm_id_count = df_unique.groupby('RFM_type')['id'].count()\n",
        "\n",
        "# 시각화\n",
        "rfm_id_count.plot(kind='bar')\n",
        "plt.title('RFM_type by id count')\n",
        "plt.xlabel('RFM_type')\n",
        "plt.ylabel('id count')\n",
        "plt.show()\n"
      ],
      "metadata": {
        "colab": {
          "base_uri": "https://localhost:8080/",
          "height": 334
        },
        "id": "_yCnlNxpHHDt",
        "outputId": "4a77e945-0dbc-40d3-b1e3-f00a44adc447"
      },
      "execution_count": 42,
      "outputs": [
        {
          "output_type": "display_data",
          "data": {
            "text/plain": [
              "<Figure size 432x288 with 1 Axes>"
            ],
            "image/png": "[encoded data removed]"
          },
          "metadata": {
            "needs_background": "light"
          }
        }
      ]
    },
    {
      "cell_type": "code",
      "source": [
        "import pandas as pd\n",
        "\n",
        "# 중복되는 'id'를 제거\n",
        "df_unique = df.drop_duplicates(subset=['id'])\n",
        "\n",
        "# RFM_type 별 'id' 개수 계산\n",
        "total_id_count = len(df_unique)\n",
        "rfm_id_count = df_unique.groupby('RFM_type')['id'].count()\n",
        "\n",
        "# RFM_type 별 'id' 개수 비율 계산\n",
        "rfm_id_ratio = rfm_id_count / total_id_count * 100\n",
        "\n",
        "# 결과 출력\n",
        "print(f\"Total unique id count: {total_id_count}\")\n",
        "print(f\"\\nRFM_type's id ratio:\\n{rfm_id_ratio}\")"
      ],
      "metadata": {
        "colab": {
          "base_uri": "https://localhost:8080/"
        },
        "id": "ZvJuafHkgQep",
        "outputId": "746b06ef-173a-4df0-ce63-63602cc9b2c6"
      },
      "execution_count": 41,
      "outputs": [
        {
          "output_type": "stream",
          "name": "stdout",
          "text": [
            "Total unique id count: 3314\n",
            "\n",
            "RFM_type's id ratio:\n",
            "RFM_type\n",
            "LOW        88.865419\n",
            "REGULAR     9.656005\n",
            "VIP         1.478576\n",
            "Name: id, dtype: float64\n"
          ]
        }
      ]
    },
    {
      "cell_type": "markdown",
      "source": [
        "각각의 등급 별로 남여의 비율을 확인 "
      ],
      "metadata": {
        "id": "N_qtbKR-Hth1"
      }
    },
    {
      "cell_type": "code",
      "source": [
        "import matplotlib.pyplot as plt\n",
        "import seaborn as sns\n",
        "\n",
        "# group data by RFM_type and sex and count the number of occurrences\n",
        "grouped = df.groupby(['RFM_type', 'sex'])['RFM_type'].count().unstack()\n",
        "\n",
        "# plot a stacked bar chart of the results\n",
        "ax = grouped.plot(kind='bar', stacked=True, figsize=(8, 6))\n",
        "ax.set_xlabel('RFM_type')\n",
        "ax.set_ylabel('Count')\n",
        "plt.show()"
      ],
      "metadata": {
        "colab": {
          "base_uri": "https://localhost:8080/",
          "height": 427
        },
        "id": "tl7loLumHQKC",
        "outputId": "58385086-6658-46ac-c78c-c61912f3c178"
      },
      "execution_count": null,
      "outputs": [
        {
          "output_type": "display_data",
          "data": {
            "text/plain": [
              "<Figure size 576x432 with 1 Axes>"
            ],
            "image/png": "[encoded data removed]"
          },
          "metadata": {
            "needs_background": "light"
          }
        }
      ]
    },
    {
      "cell_type": "markdown",
      "source": [
        "모든 고객층에 여성이 많다.\n",
        "+ 계층별 최대 상품"
      ],
      "metadata": {
        "id": "fuspCGqVN09A"
      }
    },
    {
      "cell_type": "code",
      "source": [
        "import pandas as pd\n",
        "\n",
        "# extract rows with RFM_type = 'VIP'\n",
        "vip_data = df[df['RFM_type'] == 'VIP']"
      ],
      "metadata": {
        "id": "baGTWqTpIKIH"
      },
      "execution_count": null,
      "outputs": []
    },
    {
      "cell_type": "code",
      "source": [
        "# 'customer_id' 열을 기준으로 중복된 행을 제거합니다.\n",
        "vip_data.drop_duplicates(subset=['id'], inplace=True)"
      ],
      "metadata": {
        "id": "4ukWISJsJ_ga"
      },
      "execution_count": null,
      "outputs": []
    },
    {
      "cell_type": "code",
      "source": [
        "# calculate male and female count\n",
        "#데이터 프레임을 새로 만들고 만들 \n",
        "male_count = vip_data[vip_data['sex'] == 1.0]['sex'].count()\n",
        "female_count = vip_data[vip_data['sex'] == 2.0]['sex'].count()\n",
        "\n",
        "print(f\"VIP\b남성 수: {male_count}\")\n",
        "print(f\"VIP여성 수: {female_count}\")"
      ],
      "metadata": {
        "colab": {
          "base_uri": "https://localhost:8080/"
        },
        "id": "_Sgsh0QYI-8r",
        "outputId": "b6d12ea2-2d86-4b1b-c3ba-c6d51a1dc757"
      },
      "execution_count": null,
      "outputs": [
        {
          "output_type": "stream",
          "name": "stdout",
          "text": [
            "VIP\b남성 수: 3\n",
            "VIP여성 수: 19\n"
          ]
        }
      ]
    },
    {
      "cell_type": "code",
      "source": [
        "df.columns"
      ],
      "metadata": {
        "colab": {
          "base_uri": "https://localhost:8080/"
        },
        "id": "tI0YlS5lOFyX",
        "outputId": "79349b9b-8479-4447-8e95-0cfecbb6eafb"
      },
      "execution_count": null,
      "outputs": [
        {
          "output_type": "execute_result",
          "data": {
            "text/plain": [
              "Index(['J', 'id', 'social_id1', 'zip_code', 'occupation', 'sex', 'height',\n",
              "       'weight', 'married', 'dise', 'want_diet', 'created', 'waist', 'heap',\n",
              "       'loss_part', 'diet_purpose', 'diet', 'bmi', 'order_id', 'pfid',\n",
              "       'p_name', 'p_price', 'p_created', 'p_quantity', 'recency', 'frequency',\n",
              "       'monetary', 'R', 'F', 'M', 'RFM', 'RFM_type'],\n",
              "      dtype='object')"
            ]
          },
          "metadata": {},
          "execution_count": 137
        }
      ]
    },
    {
      "cell_type": "code",
      "source": [
        "import matplotlib.pyplot as plt\n",
        "import seaborn as sns\n",
        "\n",
        "# group data by RFM_type and sex and count the number of occurrences\n",
        "grouped = vip_data.groupby(['RFM_type', 'pfid'])['RFM_type'].count().unstack()\n",
        "\n",
        "# plot a stacked bar chart of the results\n",
        "ax = grouped.plot(kind='bar', stacked=True, figsize=(8, 6))\n",
        "ax.set_xlabel('RFM_type')\n",
        "ax.set_ylabel('Count')\n",
        "plt.show()"
      ],
      "metadata": {
        "colab": {
          "base_uri": "https://localhost:8080/",
          "height": 395
        },
        "id": "6nzQeLrGOB9q",
        "outputId": "ecb72a2d-64d1-4605-caf1-214ad15e6a26"
      },
      "execution_count": null,
      "outputs": [
        {
          "output_type": "display_data",
          "data": {
            "text/plain": [
              "<Figure size 576x432 with 1 Axes>"
            ],
            "image/png": "[encoded data removed]"
          },
          "metadata": {
            "needs_background": "light"
          }
        }
      ]
    },
    {
      "cell_type": "code",
      "source": [
        "df.columns"
      ],
      "metadata": {
        "colab": {
          "base_uri": "https://localhost:8080/"
        },
        "id": "avtubl96OLhF",
        "outputId": "43048657-4280-46e0-aad7-99d751f69e51"
      },
      "execution_count": null,
      "outputs": [
        {
          "output_type": "execute_result",
          "data": {
            "text/plain": [
              "Index(['J', 'id', 'social_id1', 'zip_code', 'occupation', 'sex', 'height',\n",
              "       'weight', 'married', 'dise', 'want_diet', 'created', 'waist', 'heap',\n",
              "       'loss_part', 'diet_purpose', 'diet', 'bmi', 'order_id', 'pfid',\n",
              "       'p_name', 'p_price', 'p_created', 'p_quantity', 'recency', 'frequency',\n",
              "       'monetary', 'R', 'F', 'M', 'RFM', 'RFM_type'],\n",
              "      dtype='object')"
            ]
          },
          "metadata": {},
          "execution_count": 141
        }
      ]
    },
    {
      "cell_type": "code",
      "source": [
        "df.isnull().sum()"
      ],
      "metadata": {
        "colab": {
          "base_uri": "https://localhost:8080/"
        },
        "id": "ziK83-c-OuUW",
        "outputId": "91e282f2-3607-460a-f3e3-1a9887278985"
      },
      "execution_count": null,
      "outputs": [
        {
          "output_type": "execute_result",
          "data": {
            "text/plain": [
              "J                  0\n",
              "id                 0\n",
              "social_id1         1\n",
              "zip_code           2\n",
              "occupation         2\n",
              "sex                2\n",
              "height             2\n",
              "weight             2\n",
              "married            2\n",
              "dise            1528\n",
              "want_diet          2\n",
              "created            0\n",
              "waist           1323\n",
              "heap            2559\n",
              "loss_part        252\n",
              "diet_purpose     275\n",
              "diet            1047\n",
              "bmi                2\n",
              "order_id           0\n",
              "pfid               0\n",
              "p_name             0\n",
              "p_price            0\n",
              "p_created          0\n",
              "p_quantity         0\n",
              "recency            0\n",
              "frequency          0\n",
              "monetary           0\n",
              "R                  0\n",
              "F                  0\n",
              "M                  0\n",
              "RFM                0\n",
              "RFM_type           0\n",
              "dtype: int64"
            ]
          },
          "metadata": {},
          "execution_count": 142
        }
      ]
    },
    {
      "cell_type": "code",
      "source": [
        "df_ex = pd.read_excel('/content/drive/MyDrive/diet_info/online_diet-2.xlsx')"
      ],
      "metadata": {
        "colab": {
          "base_uri": "https://localhost:8080/"
        },
        "id": "rVAdX7GMPzM8",
        "outputId": "499e385a-7e85-4adb-884f-d3caf3dc62b1"
      },
      "execution_count": null,
      "outputs": [
        {
          "output_type": "stream",
          "name": "stderr",
          "text": [
            "/usr/local/lib/python3.9/dist-packages/openpyxl/worksheet/header_footer.py:48: UserWarning: Cannot parse header or footer so it will be ignored\n",
            "  warn(\"\"\"Cannot parse header or footer so it will be ignored\"\"\")\n"
          ]
        }
      ]
    },
    {
      "cell_type": "code",
      "source": [
        "df_ex.info()"
      ],
      "metadata": {
        "colab": {
          "base_uri": "https://localhost:8080/"
        },
        "id": "EgbsHQmWrTgR",
        "outputId": "906a172a-4d1e-4af0-dd3e-fbff53c0e81b"
      },
      "execution_count": null,
      "outputs": [
        {
          "output_type": "stream",
          "name": "stdout",
          "text": [
            "<class 'pandas.core.frame.DataFrame'>\n",
            "RangeIndex: 4458 entries, 0 to 4457\n",
            "Data columns (total 29 columns):\n",
            " #   Column        Non-Null Count  Dtype  \n",
            "---  ------        --------------  -----  \n",
            " 0   seq_num       4458 non-null   int64  \n",
            " 1   id            4458 non-null   object \n",
            " 2   social_id1    4457 non-null   float64\n",
            " 3   zip_code      4456 non-null   object \n",
            " 4   occupation    4456 non-null   float64\n",
            " 5   sex           4456 non-null   object \n",
            " 6   height        4456 non-null   object \n",
            " 7   weight        4456 non-null   float64\n",
            " 8   married       4456 non-null   float64\n",
            " 9   dise          2930 non-null   object \n",
            " 10  want_diet     4456 non-null   float64\n",
            " 11  created       4458 non-null   object \n",
            " 12  waist         3135 non-null   object \n",
            " 13  heap          1899 non-null   object \n",
            " 14  loss_part     4206 non-null   object \n",
            " 15  diet_purpose  4183 non-null   float64\n",
            " 16  diet          3411 non-null   object \n",
            " 17  bmi           4456 non-null   float64\n",
            " 18  order_id      4458 non-null   int64  \n",
            " 19  pfid          4458 non-null   object \n",
            " 20  p_name        4458 non-null   object \n",
            " 21  p_price       4458 non-null   int64  \n",
            " 22  p_created     4458 non-null   object \n",
            " 23  p_quantity    4458 non-null   int64  \n",
            " 24  age           4457 non-null   float64\n",
            " 25  current_age   4457 non-null   float64\n",
            " 26  p_code        4458 non-null   object \n",
            " 27  dayname       4458 non-null   object \n",
            " 28  Class         4458 non-null   object \n",
            "dtypes: float64(9), int64(4), object(16)\n",
            "memory usage: 1010.1+ KB\n"
          ]
        }
      ]
    },
    {
      "cell_type": "code",
      "source": [
        "# '다이어트 클리닉'에 해당하는 데이터프레임 생성\n",
        "df_clinic = df_ex[df_ex['Class'] == '다이어트클리닉']\n",
        "\n",
        "# '다이어트 식품'에 해당하는 데이터프레임 생성\n",
        "df_food = df_ex[df_ex['Class'] == '다이어트식품']\n",
        "\n",
        "# '다이어트 운동'에 해당하는 데이터프레임 생성\n",
        "df_exercise = df_ex[df_ex['Class'] == '다이어트운동']\n",
        "\n",
        "# '다이어트 용품'에 해당하는 데이터프레임 생성\n",
        "df_goods = df_ex[df_ex['Class'] == '다이어트용품']\n"
      ],
      "metadata": {
        "id": "wm_iKSWfpQBK"
      },
      "execution_count": null,
      "outputs": []
    },
    {
      "cell_type": "code",
      "source": [
        "# '다이어트 클리닉' 데이터프레임의 인덱스를 1부터 시작하는 정수 인덱스로 변경\n",
        "df_clinic = df_clinic.reset_index(drop=True)\n",
        "\n",
        "# '다이어트 식품' 데이터프레임의 인덱스를 1부터 시작하는 정수 인덱스로 변경\n",
        "df_food = df_food.reset_index(drop=True)\n",
        "\n",
        "# '다이어트 운동' 데이터프레임의 인덱스를 1부터 시작하는 정수 인덱스로 변경\n",
        "df_exercise = df_exercise.reset_index(drop=True)\n",
        "\n",
        "# '다이어트 용품' 데이터프레임의 인덱스를 1부터 시작하는 정수 인덱스로 변경\n",
        "df_goods = df_goods.reset_index(drop=True)"
      ],
      "metadata": {
        "id": "jEP74ZZ7rd_H"
      },
      "execution_count": null,
      "outputs": []
    },
    {
      "cell_type": "code",
      "source": [
        "def extract_birth_year(df):\n",
        "    df['social_id1'] = df['social_id1'].astype(str)\n",
        "    df['birth_year'] = df['social_id1'].str[:2]\n",
        "    df.drop(df[df['birth_year'] == 'na'].index, inplace=True)\n",
        "    df['birth_year'] = df['birth_year'].astype(int)\n",
        "    df['birth_year'] = df['birth_year'] + 1900\n",
        "    df['birth_year'] = 2000 - df['birth_year']\n",
        "    df['age_category'] = (df['birth_year'] // 10) * 10\n",
        "    return df['age_category'].unique()\n",
        "\n",
        "# 'df_clinic' 데이터프레임에 함수 적용\n",
        "extract_birth_year(df_clinic)\n",
        "\n",
        "# 'df_food' 데이터프레임에 함수 적용\n",
        "extract_birth_year(df_food)\n",
        "\n",
        "# 'df_exercise' 데이터프레임에 함수 적용\n",
        "extract_birth_year(df_exercise)\n",
        "\n",
        "# 'df_goods' 데이터프레임에 함수 적용\n",
        "extract_birth_year(df_goods)"
      ],
      "metadata": {
        "colab": {
          "base_uri": "https://localhost:8080/"
        },
        "id": "T6EjzRquB5sh",
        "outputId": "e7e2b6fc-6b9d-4f45-c8cd-caa5c594d2db"
      },
      "execution_count": 194,
      "outputs": [
        {
          "output_type": "execute_result",
          "data": {
            "text/plain": [
              "array([20, 10, 30, 40, 50])"
            ]
          },
          "metadata": {},
          "execution_count": 194
        }
      ]
    },
    {
      "cell_type": "markdown",
      "source": [
        "30대에게는 클리닉 상품을 추천한다."
      ],
      "metadata": {
        "id": "DjgCDchfFXzp"
      }
    },
    {
      "cell_type": "code",
      "source": [
        "# 'df_clinic' 데이터프레임에 함수 적용\n",
        "extract_birth_year(df_clinic)\n",
        "\n",
        "# 나이별 구매금액 합계 계산\n",
        "age_price_sum = df_clinic.groupby('age_category')['p_price'].sum()\n",
        "\n",
        "# 막대 그래프 시각화\n",
        "plt.bar(age_price_sum.index, age_price_sum.values)\n",
        "plt.xlabel('Age Category')\n",
        "plt.ylabel('Total Purchase Amount')\n",
        "plt.show()"
      ],
      "metadata": {
        "colab": {
          "base_uri": "https://localhost:8080/",
          "height": 1000
        },
        "id": "m4TXG94SDJrr",
        "outputId": "92ab5248-d704-4501-f015-7ea86524f633"
      },
      "execution_count": 208,
      "outputs": [
        {
          "output_type": "stream",
          "name": "stderr",
          "text": [
            "<ipython-input-194-56bafaf42f8e>:2: SettingWithCopyWarning: \n",
            "A value is trying to be set on a copy of a slice from a DataFrame.\n",
            "Try using .loc[row_indexer,col_indexer] = value instead\n",
            "\n",
            "See the caveats in the documentation: https://pandas.pydata.org/pandas-docs/stable/user_guide/indexing.html#returning-a-view-versus-a-copy\n",
            "  df['social_id1'] = df['social_id1'].astype(str)\n",
            "<ipython-input-194-56bafaf42f8e>:3: SettingWithCopyWarning: \n",
            "A value is trying to be set on a copy of a slice from a DataFrame.\n",
            "Try using .loc[row_indexer,col_indexer] = value instead\n",
            "\n",
            "See the caveats in the documentation: https://pandas.pydata.org/pandas-docs/stable/user_guide/indexing.html#returning-a-view-versus-a-copy\n",
            "  df['birth_year'] = df['social_id1'].str[:2]\n",
            "<ipython-input-194-56bafaf42f8e>:4: SettingWithCopyWarning: \n",
            "A value is trying to be set on a copy of a slice from a DataFrame\n",
            "\n",
            "See the caveats in the documentation: https://pandas.pydata.org/pandas-docs/stable/user_guide/indexing.html#returning-a-view-versus-a-copy\n",
            "  df.drop(df[df['birth_year'] == 'na'].index, inplace=True)\n",
            "<ipython-input-194-56bafaf42f8e>:5: SettingWithCopyWarning: \n",
            "A value is trying to be set on a copy of a slice from a DataFrame.\n",
            "Try using .loc[row_indexer,col_indexer] = value instead\n",
            "\n",
            "See the caveats in the documentation: https://pandas.pydata.org/pandas-docs/stable/user_guide/indexing.html#returning-a-view-versus-a-copy\n",
            "  df['birth_year'] = df['birth_year'].astype(int)\n",
            "<ipython-input-194-56bafaf42f8e>:6: SettingWithCopyWarning: \n",
            "A value is trying to be set on a copy of a slice from a DataFrame.\n",
            "Try using .loc[row_indexer,col_indexer] = value instead\n",
            "\n",
            "See the caveats in the documentation: https://pandas.pydata.org/pandas-docs/stable/user_guide/indexing.html#returning-a-view-versus-a-copy\n",
            "  df['birth_year'] = df['birth_year'] + 1900\n",
            "<ipython-input-194-56bafaf42f8e>:7: SettingWithCopyWarning: \n",
            "A value is trying to be set on a copy of a slice from a DataFrame.\n",
            "Try using .loc[row_indexer,col_indexer] = value instead\n",
            "\n",
            "See the caveats in the documentation: https://pandas.pydata.org/pandas-docs/stable/user_guide/indexing.html#returning-a-view-versus-a-copy\n",
            "  df['birth_year'] = 2000 - df['birth_year']\n",
            "<ipython-input-194-56bafaf42f8e>:8: SettingWithCopyWarning: \n",
            "A value is trying to be set on a copy of a slice from a DataFrame.\n",
            "Try using .loc[row_indexer,col_indexer] = value instead\n",
            "\n",
            "See the caveats in the documentation: https://pandas.pydata.org/pandas-docs/stable/user_guide/indexing.html#returning-a-view-versus-a-copy\n",
            "  df['age_category'] = (df['birth_year'] // 10) * 10\n"
          ]
        },
        {
          "output_type": "display_data",
          "data": {
            "text/plain": [
              "<Figure size 432x288 with 1 Axes>"
            ],
            "image/png": "[encoded data removed]"
          },
          "metadata": {
            "needs_background": "light"
          }
        }
      ]
    },
    {
      "cell_type": "markdown",
      "source": [
        "20대 들은 식품을 가장 선호한다."
      ],
      "metadata": {
        "id": "xy9PpXi_Fh9I"
      }
    },
    {
      "cell_type": "code",
      "source": [
        "# 'df_food' 데이터프레임에 함수 적용\n",
        "extract_birth_year(df_food)\n",
        "\n",
        "# 나이별 구매금액 합계 계산\n",
        "age_price_sum = df_food.groupby('age_category')['p_price'].sum()\n",
        "\n",
        "# 막대 그래프 시각화\n",
        "plt.bar(age_price_sum.index, age_price_sum.values)\n",
        "plt.xlabel('Age Category')\n",
        "plt.ylabel('Total Purchase Amount')\n",
        "plt.show()"
      ],
      "metadata": {
        "colab": {
          "base_uri": "https://localhost:8080/",
          "height": 290
        },
        "id": "wDa5HBSZDmcP",
        "outputId": "cd6a843b-4db1-4999-ca5d-b151c054e217"
      },
      "execution_count": 209,
      "outputs": [
        {
          "output_type": "display_data",
          "data": {
            "text/plain": [
              "<Figure size 432x288 with 1 Axes>"
            ],
            "image/png": "[encoded data removed]"
          },
          "metadata": {
            "needs_background": "light"
          }
        }
      ]
    },
    {
      "cell_type": "markdown",
      "source": [
        "10대에게는 excercise 클래스의 제품을 추천해준다. "
      ],
      "metadata": {
        "id": "zpGqzlNmFLXV"
      }
    },
    {
      "cell_type": "code",
      "source": [
        "# 'df_exercise' 데이터프레임에 함수 적용\n",
        "extract_birth_year(df_exercise)\n",
        "\n",
        "# 나이별 구매금액 합계 계산\n",
        "age_price_sum = df_exercise.groupby('age_category')['p_price'].sum()\n",
        "\n",
        "# 막대 그래프 시각화\n",
        "plt.bar(age_price_sum.index, age_price_sum.values)\n",
        "plt.xlabel('Age Category')\n",
        "plt.ylabel('Total Purchase Amount')\n",
        "plt.show()"
      ],
      "metadata": {
        "colab": {
          "base_uri": "https://localhost:8080/",
          "height": 290
        },
        "id": "1mfM1P-EDox-",
        "outputId": "6fe04def-37c6-495c-86f1-c1e4ceb789ea"
      },
      "execution_count": 210,
      "outputs": [
        {
          "output_type": "display_data",
          "data": {
            "text/plain": [
              "<Figure size 432x288 with 1 Axes>"
            ],
            "image/png": "[encoded data removed]"
          },
          "metadata": {
            "needs_background": "light"
          }
        }
      ]
    },
    {
      "cell_type": "code",
      "source": [
        "# 'df_goods' 데이터프레임에 함수 적용\n",
        "extract_birth_year(df_goods)\n",
        "\n",
        "# 나이별 구매금액 합계 계산\n",
        "age_price_sum = df_goods.groupby('age_category')['p_price'].sum()\n",
        "\n",
        "# 막대 그래프 시각화\n",
        "plt.bar(age_price_sum.index, age_price_sum.values)\n",
        "plt.xlabel('Age Category')\n",
        "plt.ylabel('Total Purchase Amount')\n",
        "plt.show()"
      ],
      "metadata": {
        "colab": {
          "base_uri": "https://localhost:8080/",
          "height": 290
        },
        "id": "NNiB0QBtDqYI",
        "outputId": "216fcdbd-f79d-4486-cac5-bc469e7aa2f1"
      },
      "execution_count": 211,
      "outputs": [
        {
          "output_type": "display_data",
          "data": {
            "text/plain": [
              "<Figure size 432x288 with 1 Axes>"
            ],
            "image/png": "[encoded data removed]"
          },
          "metadata": {
            "needs_background": "light"
          }
        }
      ]
    },
    {
      "cell_type": "markdown",
      "source": [
        "1. 아이디 통합 운영\n",
        "2. 아이디 만드는 것에 위의 아래의 정보가 다 들어감 \n"
      ],
      "metadata": {
        "id": "_VPryVOPucv1"
      }
    },
    {
      "cell_type": "markdown",
      "source": [
        "#클리닉 클래스 \n",
        "- '신체정보' 관련된 데이터가 다 들어가 있다. \n",
        "- loss_part를 정할 수 있다\n",
        "\n",
        "- 전처리 방법\n",
        " 결측치 중복값 등등을 처리 ?\n"
      ],
      "metadata": {
        "id": "SakzAhDRsfXs"
      }
    },
    {
      "cell_type": "code",
      "source": [
        "df_exercise.isnull().sum()"
      ],
      "metadata": {
        "id": "vHgVp_8BrzXs"
      },
      "execution_count": null,
      "outputs": []
    },
    {
      "cell_type": "code",
      "source": [
        "df_clinic.isnull().sum()"
      ],
      "metadata": {
        "id": "SMIaV5W3sCzL"
      },
      "execution_count": null,
      "outputs": []
    },
    {
      "cell_type": "code",
      "source": [
        "df_food.isnull().sum()"
      ],
      "metadata": {
        "id": "bxKJT0u1sLOj"
      },
      "execution_count": null,
      "outputs": []
    },
    {
      "cell_type": "code",
      "source": [
        "df_goods.isnull().sum()"
      ],
      "metadata": {
        "id": "f5zn0L85sRGL"
      },
      "execution_count": null,
      "outputs": []
    },
    {
      "cell_type": "code",
      "source": [
        "# 유니크한 값들의 개수\n",
        "print(\"df_clinic.nunique(): \", df_clinic.nunique())"
      ],
      "metadata": {
        "id": "U7r3Bvv6tcZl"
      },
      "execution_count": null,
      "outputs": []
    },
    {
      "cell_type": "markdown",
      "source": [
        "#연관분석"
      ],
      "metadata": {
        "id": "fGNpTLni6axz"
      }
    },
    {
      "cell_type": "code",
      "source": [
        "df_rla = pd.read_excel('/content/drive/MyDrive/diet_info/online_diet-2.xlsx')"
      ],
      "metadata": {
        "colab": {
          "base_uri": "https://localhost:8080/"
        },
        "id": "R9EJUyip6hZz",
        "outputId": "d8f71ce1-3ad7-44b9-b4e8-289b7dff8785"
      },
      "execution_count": 170,
      "outputs": [
        {
          "output_type": "stream",
          "name": "stderr",
          "text": [
            "/usr/local/lib/python3.9/dist-packages/openpyxl/worksheet/header_footer.py:48: UserWarning: Cannot parse header or footer so it will be ignored\n",
            "  warn(\"\"\"Cannot parse header or footer so it will be ignored\"\"\")\n"
          ]
        }
      ]
    },
    {
      "cell_type": "code",
      "source": [
        "!pip install mlxtend"
      ],
      "metadata": {
        "colab": {
          "base_uri": "https://localhost:8080/"
        },
        "id": "RTJjfdSu6cJa",
        "outputId": "128abd86-2f29-42db-ca69-2a9d61570643"
      },
      "execution_count": 169,
      "outputs": [
        {
          "output_type": "stream",
          "name": "stdout",
          "text": [
            "Looking in indexes: https://pypi.org/simple, https://us-python.pkg.dev/colab-wheels/public/simple/\n",
            "Requirement already satisfied: mlxtend in /usr/local/lib/python3.9/dist-packages (0.14.0)\n",
            "Requirement already satisfied: setuptools in /usr/local/lib/python3.9/dist-packages (from mlxtend) (67.6.0)\n",
            "Requirement already satisfied: pandas>=0.17.1 in /usr/local/lib/python3.9/dist-packages (from mlxtend) (1.4.4)\n",
            "Requirement already satisfied: scipy>=0.17 in /usr/local/lib/python3.9/dist-packages (from mlxtend) (1.10.1)\n",
            "Requirement already satisfied: scikit-learn>=0.18 in /usr/local/lib/python3.9/dist-packages (from mlxtend) (1.2.2)\n",
            "Requirement already satisfied: numpy>=1.10.4 in /usr/local/lib/python3.9/dist-packages (from mlxtend) (1.22.4)\n",
            "Requirement already satisfied: matplotlib>=1.5.1 in /usr/local/lib/python3.9/dist-packages (from mlxtend) (3.7.1)\n",
            "Requirement already satisfied: contourpy>=1.0.1 in /usr/local/lib/python3.9/dist-packages (from matplotlib>=1.5.1->mlxtend) (1.0.7)\n",
            "Requirement already satisfied: pillow>=6.2.0 in /usr/local/lib/python3.9/dist-packages (from matplotlib>=1.5.1->mlxtend) (8.4.0)\n",
            "Requirement already satisfied: pyparsing>=2.3.1 in /usr/local/lib/python3.9/dist-packages (from matplotlib>=1.5.1->mlxtend) (3.0.9)\n",
            "Requirement already satisfied: fonttools>=4.22.0 in /usr/local/lib/python3.9/dist-packages (from matplotlib>=1.5.1->mlxtend) (4.39.2)\n",
            "Requirement already satisfied: kiwisolver>=1.0.1 in /usr/local/lib/python3.9/dist-packages (from matplotlib>=1.5.1->mlxtend) (1.4.4)\n",
            "Requirement already satisfied: packaging>=20.0 in /usr/local/lib/python3.9/dist-packages (from matplotlib>=1.5.1->mlxtend) (23.0)\n",
            "Requirement already satisfied: python-dateutil>=2.7 in /usr/local/lib/python3.9/dist-packages (from matplotlib>=1.5.1->mlxtend) (2.8.2)\n",
            "Requirement already satisfied: importlib-resources>=3.2.0 in /usr/local/lib/python3.9/dist-packages (from matplotlib>=1.5.1->mlxtend) (5.12.0)\n",
            "Requirement already satisfied: cycler>=0.10 in /usr/local/lib/python3.9/dist-packages (from matplotlib>=1.5.1->mlxtend) (0.11.0)\n",
            "Requirement already satisfied: pytz>=2020.1 in /usr/local/lib/python3.9/dist-packages (from pandas>=0.17.1->mlxtend) (2022.7.1)\n",
            "Requirement already satisfied: joblib>=1.1.1 in /usr/local/lib/python3.9/dist-packages (from scikit-learn>=0.18->mlxtend) (1.1.1)\n",
            "Requirement already satisfied: threadpoolctl>=2.0.0 in /usr/local/lib/python3.9/dist-packages (from scikit-learn>=0.18->mlxtend) (3.1.0)\n",
            "Requirement already satisfied: zipp>=3.1.0 in /usr/local/lib/python3.9/dist-packages (from importlib-resources>=3.2.0->matplotlib>=1.5.1->mlxtend) (3.15.0)\n",
            "Requirement already satisfied: six>=1.5 in /usr/local/lib/python3.9/dist-packages (from python-dateutil>=2.7->matplotlib>=1.5.1->mlxtend) (1.16.0)\n"
          ]
        }
      ]
    },
    {
      "cell_type": "code",
      "source": [
        "df['pfid'] = df['pfid'].apply(lambda x: x[:-3])"
      ],
      "metadata": {
        "id": "qtdykMdaMEcT"
      },
      "execution_count": 247,
      "outputs": []
    },
    {
      "cell_type": "code",
      "source": [
        "from mlxtend.frequent_patterns import apriori\n",
        "\n",
        "# support가 0.2 이상인 itemsets을 추출합니다.\n",
        "frequent_itemsets = (df.groupby('order_id')['pfid']\n",
        "                     .apply(lambda x: tuple(x))\n",
        "                     .reset_index(name='items')\n",
        "                     .groupby('items')['order_id']\n",
        "                     .nunique()\n",
        "                     .reset_index(name='support'))\n",
        "frequent_itemsets = frequent_itemsets[frequent_itemsets['support'] >= 0.2]"
      ],
      "metadata": {
        "id": "Bc-4tHQR6ctL"
      },
      "execution_count": 250,
      "outputs": []
    },
    {
      "cell_type": "markdown",
      "source": [
        "#support\n",
        "support가 가장 높은 3개를 출력"
      ],
      "metadata": {
        "id": "Z-QxAqTs_StI"
      }
    },
    {
      "cell_type": "code",
      "source": [
        "print(frequent_itemsets.sort_values(by='support', ascending=False).head(10))"
      ],
      "metadata": {
        "colab": {
          "base_uri": "https://localhost:8080/"
        },
        "id": "t9ulOgSm_tw3",
        "outputId": "44dca7dd-4875-4695-956a-796cf443d613"
      },
      "execution_count": 251,
      "outputs": [
        {
          "output_type": "stream",
          "name": "stdout",
          "text": [
            "          items  support\n",
            "51   (MDEPART,)      790\n",
            "121  (MDGLIKE,)      706\n",
            "31   (MDEHRWE,)      599\n",
            "97   (MDGFASH,)      376\n",
            "156  (PDFFUNC,)      226\n",
            "15   (MDEETCC,)      220\n",
            "5    (GDCMAIL,)      182\n",
            "173  (PDFMEAL,)      147\n",
            "141  (MDGVDCD,)      127\n",
            "153  (PDCGOOD,)       79\n"
          ]
        }
      ]
    },
    {
      "cell_type": "code",
      "source": [
        "frequent_itemsets[frequent_itemsets['items'].apply(lambda x: len(x)>=2)]"
      ],
      "metadata": {
        "colab": {
          "base_uri": "https://localhost:8080/",
          "height": 423
        },
        "id": "h2kPy4PcT13e",
        "outputId": "26c84ebd-f7b4-4852-8a33-c3713c4d9044"
      },
      "execution_count": 253,
      "outputs": [
        {
          "output_type": "execute_result",
          "data": {
            "text/plain": [
              "                           items  support\n",
              "1    (GDCBEST, GDCBEST, MDEPART)        1\n",
              "2             (GDCBEST, PDFFUNC)        1\n",
              "3             (GDCBEST, PDFMEAL)        1\n",
              "6             (GDCMAIL, MDEHRWE)        1\n",
              "7             (GDCMAIL, MDFFIBE)        1\n",
              "..                           ...      ...\n",
              "180           (PDFMEAL, MDGVDCD)        1\n",
              "181           (PDFMEAL, PDFFUNC)        3\n",
              "182           (PDFMEAL, PDFHSFD)        1\n",
              "183           (PDFMEAL, PDFMEAL)        3\n",
              "184           (PDFMEAL, pDFMEAL)        2\n",
              "\n",
              "[158 rows x 2 columns]"
            ],
            "text/html": [
              "\n",
              "  <div id=\"df-84c2ebf4-ee13-43c9-8add-89f2ad5d5c5e\">\n",
              "    <div class=\"colab-df-container\">\n",
              "      <div>\n",
              "<style scoped>\n",
              "    .dataframe tbody tr th:only-of-type {\n",
              "        vertical-align: middle;\n",
              "    }\n",
              "\n",
              "    .dataframe tbody tr th {\n",
              "        vertical-align: top;\n",
              "    }\n",
              "\n",
              "    .dataframe thead th {\n",
              "        text-align: right;\n",
              "    }\n",
              "</style>\n",
              "<table border=\"1\" class=\"dataframe\">\n",
              "  <thead>\n",
              "    <tr style=\"text-align: right;\">\n",
              "      <th></th>\n",
              "      <th>items</th>\n",
              "      <th>support</th>\n",
              "    </tr>\n",
              "  </thead>\n",
              "  <tbody>\n",
              "    <tr>\n",
              "      <th>1</th>\n",
              "      <td>(GDCBEST, GDCBEST, MDEPART)</td>\n",
              "      <td>1</td>\n",
              "    </tr>\n",
              "    <tr>\n",
              "      <th>2</th>\n",
              "      <td>(GDCBEST, PDFFUNC)</td>\n",
              "      <td>1</td>\n",
              "    </tr>\n",
              "    <tr>\n",
              "      <th>3</th>\n",
              "      <td>(GDCBEST, PDFMEAL)</td>\n",
              "      <td>1</td>\n",
              "    </tr>\n",
              "    <tr>\n",
              "      <th>6</th>\n",
              "      <td>(GDCMAIL, MDEHRWE)</td>\n",
              "      <td>1</td>\n",
              "    </tr>\n",
              "    <tr>\n",
              "      <th>7</th>\n",
              "      <td>(GDCMAIL, MDFFIBE)</td>\n",
              "      <td>1</td>\n",
              "    </tr>\n",
              "    <tr>\n",
              "      <th>...</th>\n",
              "      <td>...</td>\n",
              "      <td>...</td>\n",
              "    </tr>\n",
              "    <tr>\n",
              "      <th>180</th>\n",
              "      <td>(PDFMEAL, MDGVDCD)</td>\n",
              "      <td>1</td>\n",
              "    </tr>\n",
              "    <tr>\n",
              "      <th>181</th>\n",
              "      <td>(PDFMEAL, PDFFUNC)</td>\n",
              "      <td>3</td>\n",
              "    </tr>\n",
              "    <tr>\n",
              "      <th>182</th>\n",
              "      <td>(PDFMEAL, PDFHSFD)</td>\n",
              "      <td>1</td>\n",
              "    </tr>\n",
              "    <tr>\n",
              "      <th>183</th>\n",
              "      <td>(PDFMEAL, PDFMEAL)</td>\n",
              "      <td>3</td>\n",
              "    </tr>\n",
              "    <tr>\n",
              "      <th>184</th>\n",
              "      <td>(PDFMEAL, pDFMEAL)</td>\n",
              "      <td>2</td>\n",
              "    </tr>\n",
              "  </tbody>\n",
              "</table>\n",
              "<p>158 rows × 2 columns</p>\n",
              "</div>\n",
              "      <button class=\"colab-df-convert\" onclick=\"convertToInteractive('df-84c2ebf4-ee13-43c9-8add-89f2ad5d5c5e')\"\n",
              "              title=\"Convert this dataframe to an interactive table.\"\n",
              "              style=\"display:none;\">\n",
              "        \n",
              "  <svg xmlns=\"http://www.w3.org/2000/svg\" height=\"24px\"viewBox=\"0 0 24 24\"\n",
              "       width=\"24px\">\n",
              "    <path d=\"M0 0h24v24H0V0z\" fill=\"none\"/>\n",
              "    <path d=\"M18.56 5.44l.94 2.06.94-2.06 2.06-.94-2.06-.94-.94-2.06-.94 2.06-2.06.94zm-11 1L8.5 8.5l.94-2.06 2.06-.94-2.06-.94L8.5 2.5l-.94 2.06-2.06.94zm10 10l.94 2.06.94-2.06 2.06-.94-2.06-.94-.94-2.06-.94 2.06-2.06.94z\"/><path d=\"M17.41 7.96l-1.37-1.37c-.4-.4-.92-.59-1.43-.59-.52 0-1.04.2-1.43.59L10.3 9.45l-7.72 7.72c-.78.78-.78 2.05 0 2.83L4 21.41c.39.39.9.59 1.41.59.51 0 1.02-.2 1.41-.59l7.78-7.78 2.81-2.81c.8-.78.8-2.07 0-2.86zM5.41 20L4 18.59l7.72-7.72 1.47 1.35L5.41 20z\"/>\n",
              "  </svg>\n",
              "      </button>\n",
              "      \n",
              "  <style>\n",
              "    .colab-df-container {\n",
              "      display:flex;\n",
              "      flex-wrap:wrap;\n",
              "      gap: 12px;\n",
              "    }\n",
              "\n",
              "    .colab-df-convert {\n",
              "      background-color: #E8F0FE;\n",
              "      border: none;\n",
              "      border-radius: 50%;\n",
              "      cursor: pointer;\n",
              "      display: none;\n",
              "      fill: #1967D2;\n",
              "      height: 32px;\n",
              "      padding: 0 0 0 0;\n",
              "      width: 32px;\n",
              "    }\n",
              "\n",
              "    .colab-df-convert:hover {\n",
              "      background-color: #E2EBFA;\n",
              "      box-shadow: 0px 1px 2px rgba(60, 64, 67, 0.3), 0px 1px 3px 1px rgba(60, 64, 67, 0.15);\n",
              "      fill: #174EA6;\n",
              "    }\n",
              "\n",
              "    [theme=dark] .colab-df-convert {\n",
              "      background-color: #3B4455;\n",
              "      fill: #D2E3FC;\n",
              "    }\n",
              "\n",
              "    [theme=dark] .colab-df-convert:hover {\n",
              "      background-color: #434B5C;\n",
              "      box-shadow: 0px 1px 3px 1px rgba(0, 0, 0, 0.15);\n",
              "      filter: drop-shadow(0px 1px 2px rgba(0, 0, 0, 0.3));\n",
              "      fill: #FFFFFF;\n",
              "    }\n",
              "  </style>\n",
              "\n",
              "      <script>\n",
              "        const buttonEl =\n",
              "          document.querySelector('#df-84c2ebf4-ee13-43c9-8add-89f2ad5d5c5e button.colab-df-convert');\n",
              "        buttonEl.style.display =\n",
              "          google.colab.kernel.accessAllowed ? 'block' : 'none';\n",
              "\n",
              "        async function convertToInteractive(key) {\n",
              "          const element = document.querySelector('#df-84c2ebf4-ee13-43c9-8add-89f2ad5d5c5e');\n",
              "          const dataTable =\n",
              "            await google.colab.kernel.invokeFunction('convertToInteractive',\n",
              "                                                     [key], {});\n",
              "          if (!dataTable) return;\n",
              "\n",
              "          const docLinkHtml = 'Like what you see? Visit the ' +\n",
              "            '<a target=\"_blank\" href=https://colab.research.google.com/notebooks/data_table.ipynb>data table notebook</a>'\n",
              "            + ' to learn more about interactive tables.';\n",
              "          element.innerHTML = '';\n",
              "          dataTable['output_type'] = 'display_data';\n",
              "          await google.colab.output.renderOutput(dataTable, element);\n",
              "          const docLink = document.createElement('div');\n",
              "          docLink.innerHTML = docLinkHtml;\n",
              "          element.appendChild(docLink);\n",
              "        }\n",
              "      </script>\n",
              "    </div>\n",
              "  </div>\n",
              "  "
            ]
          },
          "metadata": {},
          "execution_count": 253
        }
      ]
    },
    {
      "cell_type": "code",
      "source": [
        "frequent_itemsets[frequent_itemsets['items'].apply(lambda x: len(x)>=2)].nlargest(10, 'support')"
      ],
      "metadata": {
        "colab": {
          "base_uri": "https://localhost:8080/",
          "height": 362
        },
        "id": "Fk3kzaWU8PtJ",
        "outputId": "d91e646c-b6fc-46c3-a23b-e03b260c1285"
      },
      "execution_count": 254,
      "outputs": [
        {
          "output_type": "execute_result",
          "data": {
            "text/plain": [
              "                  items  support\n",
              "56   (MDEPART, MDEPART)       22\n",
              "62   (MDEPART, MDGLIKE)       11\n",
              "111  (MDGFASH, MDGFASH)       11\n",
              "136  (MDGLIKE, MDGLIKE)       11\n",
              "35   (MDEHRWE, MDEHRWE)        8\n",
              "40   (MDEHRWE, MDEPART)        7\n",
              "54   (MDEPART, MDEHRWE)        7\n",
              "150  (MDGVDCD, MDGVDCD)        7\n",
              "45   (MDEHRWE, MDGLIKE)        5\n",
              "61   (MDEPART, MDGFASH)        5"
            ],
            "text/html": [
              "\n",
              "  <div id=\"df-929e6a68-9410-4ae5-8c19-b75bab5cd142\">\n",
              "    <div class=\"colab-df-container\">\n",
              "      <div>\n",
              "<style scoped>\n",
              "    .dataframe tbody tr th:only-of-type {\n",
              "        vertical-align: middle;\n",
              "    }\n",
              "\n",
              "    .dataframe tbody tr th {\n",
              "        vertical-align: top;\n",
              "    }\n",
              "\n",
              "    .dataframe thead th {\n",
              "        text-align: right;\n",
              "    }\n",
              "</style>\n",
              "<table border=\"1\" class=\"dataframe\">\n",
              "  <thead>\n",
              "    <tr style=\"text-align: right;\">\n",
              "      <th></th>\n",
              "      <th>items</th>\n",
              "      <th>support</th>\n",
              "    </tr>\n",
              "  </thead>\n",
              "  <tbody>\n",
              "    <tr>\n",
              "      <th>56</th>\n",
              "      <td>(MDEPART, MDEPART)</td>\n",
              "      <td>22</td>\n",
              "    </tr>\n",
              "    <tr>\n",
              "      <th>62</th>\n",
              "      <td>(MDEPART, MDGLIKE)</td>\n",
              "      <td>11</td>\n",
              "    </tr>\n",
              "    <tr>\n",
              "      <th>111</th>\n",
              "      <td>(MDGFASH, MDGFASH)</td>\n",
              "      <td>11</td>\n",
              "    </tr>\n",
              "    <tr>\n",
              "      <th>136</th>\n",
              "      <td>(MDGLIKE, MDGLIKE)</td>\n",
              "      <td>11</td>\n",
              "    </tr>\n",
              "    <tr>\n",
              "      <th>35</th>\n",
              "      <td>(MDEHRWE, MDEHRWE)</td>\n",
              "      <td>8</td>\n",
              "    </tr>\n",
              "    <tr>\n",
              "      <th>40</th>\n",
              "      <td>(MDEHRWE, MDEPART)</td>\n",
              "      <td>7</td>\n",
              "    </tr>\n",
              "    <tr>\n",
              "      <th>54</th>\n",
              "      <td>(MDEPART, MDEHRWE)</td>\n",
              "      <td>7</td>\n",
              "    </tr>\n",
              "    <tr>\n",
              "      <th>150</th>\n",
              "      <td>(MDGVDCD, MDGVDCD)</td>\n",
              "      <td>7</td>\n",
              "    </tr>\n",
              "    <tr>\n",
              "      <th>45</th>\n",
              "      <td>(MDEHRWE, MDGLIKE)</td>\n",
              "      <td>5</td>\n",
              "    </tr>\n",
              "    <tr>\n",
              "      <th>61</th>\n",
              "      <td>(MDEPART, MDGFASH)</td>\n",
              "      <td>5</td>\n",
              "    </tr>\n",
              "  </tbody>\n",
              "</table>\n",
              "</div>\n",
              "      <button class=\"colab-df-convert\" onclick=\"convertToInteractive('df-929e6a68-9410-4ae5-8c19-b75bab5cd142')\"\n",
              "              title=\"Convert this dataframe to an interactive table.\"\n",
              "              style=\"display:none;\">\n",
              "        \n",
              "  <svg xmlns=\"http://www.w3.org/2000/svg\" height=\"24px\"viewBox=\"0 0 24 24\"\n",
              "       width=\"24px\">\n",
              "    <path d=\"M0 0h24v24H0V0z\" fill=\"none\"/>\n",
              "    <path d=\"M18.56 5.44l.94 2.06.94-2.06 2.06-.94-2.06-.94-.94-2.06-.94 2.06-2.06.94zm-11 1L8.5 8.5l.94-2.06 2.06-.94-2.06-.94L8.5 2.5l-.94 2.06-2.06.94zm10 10l.94 2.06.94-2.06 2.06-.94-2.06-.94-.94-2.06-.94 2.06-2.06.94z\"/><path d=\"M17.41 7.96l-1.37-1.37c-.4-.4-.92-.59-1.43-.59-.52 0-1.04.2-1.43.59L10.3 9.45l-7.72 7.72c-.78.78-.78 2.05 0 2.83L4 21.41c.39.39.9.59 1.41.59.51 0 1.02-.2 1.41-.59l7.78-7.78 2.81-2.81c.8-.78.8-2.07 0-2.86zM5.41 20L4 18.59l7.72-7.72 1.47 1.35L5.41 20z\"/>\n",
              "  </svg>\n",
              "      </button>\n",
              "      \n",
              "  <style>\n",
              "    .colab-df-container {\n",
              "      display:flex;\n",
              "      flex-wrap:wrap;\n",
              "      gap: 12px;\n",
              "    }\n",
              "\n",
              "    .colab-df-convert {\n",
              "      background-color: #E8F0FE;\n",
              "      border: none;\n",
              "      border-radius: 50%;\n",
              "      cursor: pointer;\n",
              "      display: none;\n",
              "      fill: #1967D2;\n",
              "      height: 32px;\n",
              "      padding: 0 0 0 0;\n",
              "      width: 32px;\n",
              "    }\n",
              "\n",
              "    .colab-df-convert:hover {\n",
              "      background-color: #E2EBFA;\n",
              "      box-shadow: 0px 1px 2px rgba(60, 64, 67, 0.3), 0px 1px 3px 1px rgba(60, 64, 67, 0.15);\n",
              "      fill: #174EA6;\n",
              "    }\n",
              "\n",
              "    [theme=dark] .colab-df-convert {\n",
              "      background-color: #3B4455;\n",
              "      fill: #D2E3FC;\n",
              "    }\n",
              "\n",
              "    [theme=dark] .colab-df-convert:hover {\n",
              "      background-color: #434B5C;\n",
              "      box-shadow: 0px 1px 3px 1px rgba(0, 0, 0, 0.15);\n",
              "      filter: drop-shadow(0px 1px 2px rgba(0, 0, 0, 0.3));\n",
              "      fill: #FFFFFF;\n",
              "    }\n",
              "  </style>\n",
              "\n",
              "      <script>\n",
              "        const buttonEl =\n",
              "          document.querySelector('#df-929e6a68-9410-4ae5-8c19-b75bab5cd142 button.colab-df-convert');\n",
              "        buttonEl.style.display =\n",
              "          google.colab.kernel.accessAllowed ? 'block' : 'none';\n",
              "\n",
              "        async function convertToInteractive(key) {\n",
              "          const element = document.querySelector('#df-929e6a68-9410-4ae5-8c19-b75bab5cd142');\n",
              "          const dataTable =\n",
              "            await google.colab.kernel.invokeFunction('convertToInteractive',\n",
              "                                                     [key], {});\n",
              "          if (!dataTable) return;\n",
              "\n",
              "          const docLinkHtml = 'Like what you see? Visit the ' +\n",
              "            '<a target=\"_blank\" href=https://colab.research.google.com/notebooks/data_table.ipynb>data table notebook</a>'\n",
              "            + ' to learn more about interactive tables.';\n",
              "          element.innerHTML = '';\n",
              "          dataTable['output_type'] = 'display_data';\n",
              "          await google.colab.output.renderOutput(dataTable, element);\n",
              "          const docLink = document.createElement('div');\n",
              "          docLink.innerHTML = docLinkHtml;\n",
              "          element.appendChild(docLink);\n",
              "        }\n",
              "      </script>\n",
              "    </div>\n",
              "  </div>\n",
              "  "
            ]
          },
          "metadata": {},
          "execution_count": 254
        }
      ]
    },
    {
      "cell_type": "code",
      "source": [
        "frequent_itemsets[frequent_itemsets['items'].apply(lambda x: len(x)>=2 and 'MDEPART' in x)].nlargest(10, 'support')"
      ],
      "metadata": {
        "colab": {
          "base_uri": "https://localhost:8080/",
          "height": 362
        },
        "id": "SR3zwJ9dUjtk",
        "outputId": "b9268572-f498-4da2-c8bc-d64b27e5b280"
      },
      "execution_count": 256,
      "outputs": [
        {
          "output_type": "execute_result",
          "data": {
            "text/plain": [
              "                  items  support\n",
              "56   (MDEPART, MDEPART)       22\n",
              "62   (MDEPART, MDGLIKE)       11\n",
              "40   (MDEHRWE, MDEPART)        7\n",
              "54   (MDEPART, MDEHRWE)        7\n",
              "61   (MDEPART, MDGFASH)        5\n",
              "105  (MDGFASH, MDEPART)        5\n",
              "132  (MDGLIKE, MDEPART)        5\n",
              "20   (MDEETCC, MDEPART)        4\n",
              "65   (MDEPART, MDGVDCD)        4\n",
              "145  (MDGVDCD, MDEPART)        4"
            ],
            "text/html": [
              "\n",
              "  <div id=\"df-ce3d1587-9d9c-4dd1-a33d-44c43989fb31\">\n",
              "    <div class=\"colab-df-container\">\n",
              "      <div>\n",
              "<style scoped>\n",
              "    .dataframe tbody tr th:only-of-type {\n",
              "        vertical-align: middle;\n",
              "    }\n",
              "\n",
              "    .dataframe tbody tr th {\n",
              "        vertical-align: top;\n",
              "    }\n",
              "\n",
              "    .dataframe thead th {\n",
              "        text-align: right;\n",
              "    }\n",
              "</style>\n",
              "<table border=\"1\" class=\"dataframe\">\n",
              "  <thead>\n",
              "    <tr style=\"text-align: right;\">\n",
              "      <th></th>\n",
              "      <th>items</th>\n",
              "      <th>support</th>\n",
              "    </tr>\n",
              "  </thead>\n",
              "  <tbody>\n",
              "    <tr>\n",
              "      <th>56</th>\n",
              "      <td>(MDEPART, MDEPART)</td>\n",
              "      <td>22</td>\n",
              "    </tr>\n",
              "    <tr>\n",
              "      <th>62</th>\n",
              "      <td>(MDEPART, MDGLIKE)</td>\n",
              "      <td>11</td>\n",
              "    </tr>\n",
              "    <tr>\n",
              "      <th>40</th>\n",
              "      <td>(MDEHRWE, MDEPART)</td>\n",
              "      <td>7</td>\n",
              "    </tr>\n",
              "    <tr>\n",
              "      <th>54</th>\n",
              "      <td>(MDEPART, MDEHRWE)</td>\n",
              "      <td>7</td>\n",
              "    </tr>\n",
              "    <tr>\n",
              "      <th>61</th>\n",
              "      <td>(MDEPART, MDGFASH)</td>\n",
              "      <td>5</td>\n",
              "    </tr>\n",
              "    <tr>\n",
              "      <th>105</th>\n",
              "      <td>(MDGFASH, MDEPART)</td>\n",
              "      <td>5</td>\n",
              "    </tr>\n",
              "    <tr>\n",
              "      <th>132</th>\n",
              "      <td>(MDGLIKE, MDEPART)</td>\n",
              "      <td>5</td>\n",
              "    </tr>\n",
              "    <tr>\n",
              "      <th>20</th>\n",
              "      <td>(MDEETCC, MDEPART)</td>\n",
              "      <td>4</td>\n",
              "    </tr>\n",
              "    <tr>\n",
              "      <th>65</th>\n",
              "      <td>(MDEPART, MDGVDCD)</td>\n",
              "      <td>4</td>\n",
              "    </tr>\n",
              "    <tr>\n",
              "      <th>145</th>\n",
              "      <td>(MDGVDCD, MDEPART)</td>\n",
              "      <td>4</td>\n",
              "    </tr>\n",
              "  </tbody>\n",
              "</table>\n",
              "</div>\n",
              "      <button class=\"colab-df-convert\" onclick=\"convertToInteractive('df-ce3d1587-9d9c-4dd1-a33d-44c43989fb31')\"\n",
              "              title=\"Convert this dataframe to an interactive table.\"\n",
              "              style=\"display:none;\">\n",
              "        \n",
              "  <svg xmlns=\"http://www.w3.org/2000/svg\" height=\"24px\"viewBox=\"0 0 24 24\"\n",
              "       width=\"24px\">\n",
              "    <path d=\"M0 0h24v24H0V0z\" fill=\"none\"/>\n",
              "    <path d=\"M18.56 5.44l.94 2.06.94-2.06 2.06-.94-2.06-.94-.94-2.06-.94 2.06-2.06.94zm-11 1L8.5 8.5l.94-2.06 2.06-.94-2.06-.94L8.5 2.5l-.94 2.06-2.06.94zm10 10l.94 2.06.94-2.06 2.06-.94-2.06-.94-.94-2.06-.94 2.06-2.06.94z\"/><path d=\"M17.41 7.96l-1.37-1.37c-.4-.4-.92-.59-1.43-.59-.52 0-1.04.2-1.43.59L10.3 9.45l-7.72 7.72c-.78.78-.78 2.05 0 2.83L4 21.41c.39.39.9.59 1.41.59.51 0 1.02-.2 1.41-.59l7.78-7.78 2.81-2.81c.8-.78.8-2.07 0-2.86zM5.41 20L4 18.59l7.72-7.72 1.47 1.35L5.41 20z\"/>\n",
              "  </svg>\n",
              "      </button>\n",
              "      \n",
              "  <style>\n",
              "    .colab-df-container {\n",
              "      display:flex;\n",
              "      flex-wrap:wrap;\n",
              "      gap: 12px;\n",
              "    }\n",
              "\n",
              "    .colab-df-convert {\n",
              "      background-color: #E8F0FE;\n",
              "      border: none;\n",
              "      border-radius: 50%;\n",
              "      cursor: pointer;\n",
              "      display: none;\n",
              "      fill: #1967D2;\n",
              "      height: 32px;\n",
              "      padding: 0 0 0 0;\n",
              "      width: 32px;\n",
              "    }\n",
              "\n",
              "    .colab-df-convert:hover {\n",
              "      background-color: #E2EBFA;\n",
              "      box-shadow: 0px 1px 2px rgba(60, 64, 67, 0.3), 0px 1px 3px 1px rgba(60, 64, 67, 0.15);\n",
              "      fill: #174EA6;\n",
              "    }\n",
              "\n",
              "    [theme=dark] .colab-df-convert {\n",
              "      background-color: #3B4455;\n",
              "      fill: #D2E3FC;\n",
              "    }\n",
              "\n",
              "    [theme=dark] .colab-df-convert:hover {\n",
              "      background-color: #434B5C;\n",
              "      box-shadow: 0px 1px 3px 1px rgba(0, 0, 0, 0.15);\n",
              "      filter: drop-shadow(0px 1px 2px rgba(0, 0, 0, 0.3));\n",
              "      fill: #FFFFFF;\n",
              "    }\n",
              "  </style>\n",
              "\n",
              "      <script>\n",
              "        const buttonEl =\n",
              "          document.querySelector('#df-ce3d1587-9d9c-4dd1-a33d-44c43989fb31 button.colab-df-convert');\n",
              "        buttonEl.style.display =\n",
              "          google.colab.kernel.accessAllowed ? 'block' : 'none';\n",
              "\n",
              "        async function convertToInteractive(key) {\n",
              "          const element = document.querySelector('#df-ce3d1587-9d9c-4dd1-a33d-44c43989fb31');\n",
              "          const dataTable =\n",
              "            await google.colab.kernel.invokeFunction('convertToInteractive',\n",
              "                                                     [key], {});\n",
              "          if (!dataTable) return;\n",
              "\n",
              "          const docLinkHtml = 'Like what you see? Visit the ' +\n",
              "            '<a target=\"_blank\" href=https://colab.research.google.com/notebooks/data_table.ipynb>data table notebook</a>'\n",
              "            + ' to learn more about interactive tables.';\n",
              "          element.innerHTML = '';\n",
              "          dataTable['output_type'] = 'display_data';\n",
              "          await google.colab.output.renderOutput(dataTable, element);\n",
              "          const docLink = document.createElement('div');\n",
              "          docLink.innerHTML = docLinkHtml;\n",
              "          element.appendChild(docLink);\n",
              "        }\n",
              "      </script>\n",
              "    </div>\n",
              "  </div>\n",
              "  "
            ]
          },
          "metadata": {},
          "execution_count": 256
        }
      ]
    },
    {
      "cell_type": "code",
      "source": [
        "frequent_itemsets[(frequent_itemsets['items'].apply(lambda x: len(x)>=2 and 'MDEPART' in x)) & (frequent_itemsets['support']>=5)]"
      ],
      "metadata": {
        "colab": {
          "base_uri": "https://localhost:8080/",
          "height": 268
        },
        "id": "gSLwuFetVKmG",
        "outputId": "969f5700-d6af-4009-eb86-fce402bc5efc"
      },
      "execution_count": 257,
      "outputs": [
        {
          "output_type": "execute_result",
          "data": {
            "text/plain": [
              "                  items  support\n",
              "40   (MDEHRWE, MDEPART)        7\n",
              "54   (MDEPART, MDEHRWE)        7\n",
              "56   (MDEPART, MDEPART)       22\n",
              "61   (MDEPART, MDGFASH)        5\n",
              "62   (MDEPART, MDGLIKE)       11\n",
              "105  (MDGFASH, MDEPART)        5\n",
              "132  (MDGLIKE, MDEPART)        5"
            ],
            "text/html": [
              "\n",
              "  <div id=\"df-e58e8808-e953-4772-b9ce-8fae00932a2e\">\n",
              "    <div class=\"colab-df-container\">\n",
              "      <div>\n",
              "<style scoped>\n",
              "    .dataframe tbody tr th:only-of-type {\n",
              "        vertical-align: middle;\n",
              "    }\n",
              "\n",
              "    .dataframe tbody tr th {\n",
              "        vertical-align: top;\n",
              "    }\n",
              "\n",
              "    .dataframe thead th {\n",
              "        text-align: right;\n",
              "    }\n",
              "</style>\n",
              "<table border=\"1\" class=\"dataframe\">\n",
              "  <thead>\n",
              "    <tr style=\"text-align: right;\">\n",
              "      <th></th>\n",
              "      <th>items</th>\n",
              "      <th>support</th>\n",
              "    </tr>\n",
              "  </thead>\n",
              "  <tbody>\n",
              "    <tr>\n",
              "      <th>40</th>\n",
              "      <td>(MDEHRWE, MDEPART)</td>\n",
              "      <td>7</td>\n",
              "    </tr>\n",
              "    <tr>\n",
              "      <th>54</th>\n",
              "      <td>(MDEPART, MDEHRWE)</td>\n",
              "      <td>7</td>\n",
              "    </tr>\n",
              "    <tr>\n",
              "      <th>56</th>\n",
              "      <td>(MDEPART, MDEPART)</td>\n",
              "      <td>22</td>\n",
              "    </tr>\n",
              "    <tr>\n",
              "      <th>61</th>\n",
              "      <td>(MDEPART, MDGFASH)</td>\n",
              "      <td>5</td>\n",
              "    </tr>\n",
              "    <tr>\n",
              "      <th>62</th>\n",
              "      <td>(MDEPART, MDGLIKE)</td>\n",
              "      <td>11</td>\n",
              "    </tr>\n",
              "    <tr>\n",
              "      <th>105</th>\n",
              "      <td>(MDGFASH, MDEPART)</td>\n",
              "      <td>5</td>\n",
              "    </tr>\n",
              "    <tr>\n",
              "      <th>132</th>\n",
              "      <td>(MDGLIKE, MDEPART)</td>\n",
              "      <td>5</td>\n",
              "    </tr>\n",
              "  </tbody>\n",
              "</table>\n",
              "</div>\n",
              "      <button class=\"colab-df-convert\" onclick=\"convertToInteractive('df-e58e8808-e953-4772-b9ce-8fae00932a2e')\"\n",
              "              title=\"Convert this dataframe to an interactive table.\"\n",
              "              style=\"display:none;\">\n",
              "        \n",
              "  <svg xmlns=\"http://www.w3.org/2000/svg\" height=\"24px\"viewBox=\"0 0 24 24\"\n",
              "       width=\"24px\">\n",
              "    <path d=\"M0 0h24v24H0V0z\" fill=\"none\"/>\n",
              "    <path d=\"M18.56 5.44l.94 2.06.94-2.06 2.06-.94-2.06-.94-.94-2.06-.94 2.06-2.06.94zm-11 1L8.5 8.5l.94-2.06 2.06-.94-2.06-.94L8.5 2.5l-.94 2.06-2.06.94zm10 10l.94 2.06.94-2.06 2.06-.94-2.06-.94-.94-2.06-.94 2.06-2.06.94z\"/><path d=\"M17.41 7.96l-1.37-1.37c-.4-.4-.92-.59-1.43-.59-.52 0-1.04.2-1.43.59L10.3 9.45l-7.72 7.72c-.78.78-.78 2.05 0 2.83L4 21.41c.39.39.9.59 1.41.59.51 0 1.02-.2 1.41-.59l7.78-7.78 2.81-2.81c.8-.78.8-2.07 0-2.86zM5.41 20L4 18.59l7.72-7.72 1.47 1.35L5.41 20z\"/>\n",
              "  </svg>\n",
              "      </button>\n",
              "      \n",
              "  <style>\n",
              "    .colab-df-container {\n",
              "      display:flex;\n",
              "      flex-wrap:wrap;\n",
              "      gap: 12px;\n",
              "    }\n",
              "\n",
              "    .colab-df-convert {\n",
              "      background-color: #E8F0FE;\n",
              "      border: none;\n",
              "      border-radius: 50%;\n",
              "      cursor: pointer;\n",
              "      display: none;\n",
              "      fill: #1967D2;\n",
              "      height: 32px;\n",
              "      padding: 0 0 0 0;\n",
              "      width: 32px;\n",
              "    }\n",
              "\n",
              "    .colab-df-convert:hover {\n",
              "      background-color: #E2EBFA;\n",
              "      box-shadow: 0px 1px 2px rgba(60, 64, 67, 0.3), 0px 1px 3px 1px rgba(60, 64, 67, 0.15);\n",
              "      fill: #174EA6;\n",
              "    }\n",
              "\n",
              "    [theme=dark] .colab-df-convert {\n",
              "      background-color: #3B4455;\n",
              "      fill: #D2E3FC;\n",
              "    }\n",
              "\n",
              "    [theme=dark] .colab-df-convert:hover {\n",
              "      background-color: #434B5C;\n",
              "      box-shadow: 0px 1px 3px 1px rgba(0, 0, 0, 0.15);\n",
              "      filter: drop-shadow(0px 1px 2px rgba(0, 0, 0, 0.3));\n",
              "      fill: #FFFFFF;\n",
              "    }\n",
              "  </style>\n",
              "\n",
              "      <script>\n",
              "        const buttonEl =\n",
              "          document.querySelector('#df-e58e8808-e953-4772-b9ce-8fae00932a2e button.colab-df-convert');\n",
              "        buttonEl.style.display =\n",
              "          google.colab.kernel.accessAllowed ? 'block' : 'none';\n",
              "\n",
              "        async function convertToInteractive(key) {\n",
              "          const element = document.querySelector('#df-e58e8808-e953-4772-b9ce-8fae00932a2e');\n",
              "          const dataTable =\n",
              "            await google.colab.kernel.invokeFunction('convertToInteractive',\n",
              "                                                     [key], {});\n",
              "          if (!dataTable) return;\n",
              "\n",
              "          const docLinkHtml = 'Like what you see? Visit the ' +\n",
              "            '<a target=\"_blank\" href=https://colab.research.google.com/notebooks/data_table.ipynb>data table notebook</a>'\n",
              "            + ' to learn more about interactive tables.';\n",
              "          element.innerHTML = '';\n",
              "          dataTable['output_type'] = 'display_data';\n",
              "          await google.colab.output.renderOutput(dataTable, element);\n",
              "          const docLink = document.createElement('div');\n",
              "          docLink.innerHTML = docLinkHtml;\n",
              "          element.appendChild(docLink);\n",
              "        }\n",
              "      </script>\n",
              "    </div>\n",
              "  </div>\n",
              "  "
            ]
          },
          "metadata": {},
          "execution_count": 257
        }
      ]
    },
    {
      "cell_type": "code",
      "source": [
        "frequent_itemsets[(frequent_itemsets['items'].apply(lambda x: len(x)>=2 and 'MDEHRWE' in x)) & (frequent_itemsets['support']>=5)]"
      ],
      "metadata": {
        "colab": {
          "base_uri": "https://localhost:8080/",
          "height": 206
        },
        "id": "yvfMkpHEViyM",
        "outputId": "e077eed6-9231-4cc8-dd19-a62fdd73115e"
      },
      "execution_count": 258,
      "outputs": [
        {
          "output_type": "execute_result",
          "data": {
            "text/plain": [
              "                  items  support\n",
              "35   (MDEHRWE, MDEHRWE)        8\n",
              "40   (MDEHRWE, MDEPART)        7\n",
              "45   (MDEHRWE, MDGLIKE)        5\n",
              "54   (MDEPART, MDEHRWE)        7\n",
              "125  (MDGLIKE, MDEHRWE)        5"
            ],
            "text/html": [
              "\n",
              "  <div id=\"df-34eb46b1-9286-4dfa-81cd-7fd8a0ba03bf\">\n",
              "    <div class=\"colab-df-container\">\n",
              "      <div>\n",
              "<style scoped>\n",
              "    .dataframe tbody tr th:only-of-type {\n",
              "        vertical-align: middle;\n",
              "    }\n",
              "\n",
              "    .dataframe tbody tr th {\n",
              "        vertical-align: top;\n",
              "    }\n",
              "\n",
              "    .dataframe thead th {\n",
              "        text-align: right;\n",
              "    }\n",
              "</style>\n",
              "<table border=\"1\" class=\"dataframe\">\n",
              "  <thead>\n",
              "    <tr style=\"text-align: right;\">\n",
              "      <th></th>\n",
              "      <th>items</th>\n",
              "      <th>support</th>\n",
              "    </tr>\n",
              "  </thead>\n",
              "  <tbody>\n",
              "    <tr>\n",
              "      <th>35</th>\n",
              "      <td>(MDEHRWE, MDEHRWE)</td>\n",
              "      <td>8</td>\n",
              "    </tr>\n",
              "    <tr>\n",
              "      <th>40</th>\n",
              "      <td>(MDEHRWE, MDEPART)</td>\n",
              "      <td>7</td>\n",
              "    </tr>\n",
              "    <tr>\n",
              "      <th>45</th>\n",
              "      <td>(MDEHRWE, MDGLIKE)</td>\n",
              "      <td>5</td>\n",
              "    </tr>\n",
              "    <tr>\n",
              "      <th>54</th>\n",
              "      <td>(MDEPART, MDEHRWE)</td>\n",
              "      <td>7</td>\n",
              "    </tr>\n",
              "    <tr>\n",
              "      <th>125</th>\n",
              "      <td>(MDGLIKE, MDEHRWE)</td>\n",
              "      <td>5</td>\n",
              "    </tr>\n",
              "  </tbody>\n",
              "</table>\n",
              "</div>\n",
              "      <button class=\"colab-df-convert\" onclick=\"convertToInteractive('df-34eb46b1-9286-4dfa-81cd-7fd8a0ba03bf')\"\n",
              "              title=\"Convert this dataframe to an interactive table.\"\n",
              "              style=\"display:none;\">\n",
              "        \n",
              "  <svg xmlns=\"http://www.w3.org/2000/svg\" height=\"24px\"viewBox=\"0 0 24 24\"\n",
              "       width=\"24px\">\n",
              "    <path d=\"M0 0h24v24H0V0z\" fill=\"none\"/>\n",
              "    <path d=\"M18.56 5.44l.94 2.06.94-2.06 2.06-.94-2.06-.94-.94-2.06-.94 2.06-2.06.94zm-11 1L8.5 8.5l.94-2.06 2.06-.94-2.06-.94L8.5 2.5l-.94 2.06-2.06.94zm10 10l.94 2.06.94-2.06 2.06-.94-2.06-.94-.94-2.06-.94 2.06-2.06.94z\"/><path d=\"M17.41 7.96l-1.37-1.37c-.4-.4-.92-.59-1.43-.59-.52 0-1.04.2-1.43.59L10.3 9.45l-7.72 7.72c-.78.78-.78 2.05 0 2.83L4 21.41c.39.39.9.59 1.41.59.51 0 1.02-.2 1.41-.59l7.78-7.78 2.81-2.81c.8-.78.8-2.07 0-2.86zM5.41 20L4 18.59l7.72-7.72 1.47 1.35L5.41 20z\"/>\n",
              "  </svg>\n",
              "      </button>\n",
              "      \n",
              "  <style>\n",
              "    .colab-df-container {\n",
              "      display:flex;\n",
              "      flex-wrap:wrap;\n",
              "      gap: 12px;\n",
              "    }\n",
              "\n",
              "    .colab-df-convert {\n",
              "      background-color: #E8F0FE;\n",
              "      border: none;\n",
              "      border-radius: 50%;\n",
              "      cursor: pointer;\n",
              "      display: none;\n",
              "      fill: #1967D2;\n",
              "      height: 32px;\n",
              "      padding: 0 0 0 0;\n",
              "      width: 32px;\n",
              "    }\n",
              "\n",
              "    .colab-df-convert:hover {\n",
              "      background-color: #E2EBFA;\n",
              "      box-shadow: 0px 1px 2px rgba(60, 64, 67, 0.3), 0px 1px 3px 1px rgba(60, 64, 67, 0.15);\n",
              "      fill: #174EA6;\n",
              "    }\n",
              "\n",
              "    [theme=dark] .colab-df-convert {\n",
              "      background-color: #3B4455;\n",
              "      fill: #D2E3FC;\n",
              "    }\n",
              "\n",
              "    [theme=dark] .colab-df-convert:hover {\n",
              "      background-color: #434B5C;\n",
              "      box-shadow: 0px 1px 3px 1px rgba(0, 0, 0, 0.15);\n",
              "      filter: drop-shadow(0px 1px 2px rgba(0, 0, 0, 0.3));\n",
              "      fill: #FFFFFF;\n",
              "    }\n",
              "  </style>\n",
              "\n",
              "      <script>\n",
              "        const buttonEl =\n",
              "          document.querySelector('#df-34eb46b1-9286-4dfa-81cd-7fd8a0ba03bf button.colab-df-convert');\n",
              "        buttonEl.style.display =\n",
              "          google.colab.kernel.accessAllowed ? 'block' : 'none';\n",
              "\n",
              "        async function convertToInteractive(key) {\n",
              "          const element = document.querySelector('#df-34eb46b1-9286-4dfa-81cd-7fd8a0ba03bf');\n",
              "          const dataTable =\n",
              "            await google.colab.kernel.invokeFunction('convertToInteractive',\n",
              "                                                     [key], {});\n",
              "          if (!dataTable) return;\n",
              "\n",
              "          const docLinkHtml = 'Like what you see? Visit the ' +\n",
              "            '<a target=\"_blank\" href=https://colab.research.google.com/notebooks/data_table.ipynb>data table notebook</a>'\n",
              "            + ' to learn more about interactive tables.';\n",
              "          element.innerHTML = '';\n",
              "          dataTable['output_type'] = 'display_data';\n",
              "          await google.colab.output.renderOutput(dataTable, element);\n",
              "          const docLink = document.createElement('div');\n",
              "          docLink.innerHTML = docLinkHtml;\n",
              "          element.appendChild(docLink);\n",
              "        }\n",
              "      </script>\n",
              "    </div>\n",
              "  </div>\n",
              "  "
            ]
          },
          "metadata": {},
          "execution_count": 258
        }
      ]
    },
    {
      "cell_type": "code",
      "source": [
        "frequent_itemsets[(frequent_itemsets['items'].apply(lambda x: len(x)>=2 and 'MDGLIKE' in x)) & (frequent_itemsets['support']>=5)]"
      ],
      "metadata": {
        "colab": {
          "base_uri": "https://localhost:8080/",
          "height": 206
        },
        "id": "9OoSh3uRVwMi",
        "outputId": "c2e6aa00-e1f3-4e53-f709-d032a135d3ed"
      },
      "execution_count": 259,
      "outputs": [
        {
          "output_type": "execute_result",
          "data": {
            "text/plain": [
              "                  items  support\n",
              "45   (MDEHRWE, MDGLIKE)        5\n",
              "62   (MDEPART, MDGLIKE)       11\n",
              "125  (MDGLIKE, MDEHRWE)        5\n",
              "132  (MDGLIKE, MDEPART)        5\n",
              "136  (MDGLIKE, MDGLIKE)       11"
            ],
            "text/html": [
              "\n",
              "  <div id=\"df-8c4c9024-867a-4e3e-a45e-d6d0aea4db0b\">\n",
              "    <div class=\"colab-df-container\">\n",
              "      <div>\n",
              "<style scoped>\n",
              "    .dataframe tbody tr th:only-of-type {\n",
              "        vertical-align: middle;\n",
              "    }\n",
              "\n",
              "    .dataframe tbody tr th {\n",
              "        vertical-align: top;\n",
              "    }\n",
              "\n",
              "    .dataframe thead th {\n",
              "        text-align: right;\n",
              "    }\n",
              "</style>\n",
              "<table border=\"1\" class=\"dataframe\">\n",
              "  <thead>\n",
              "    <tr style=\"text-align: right;\">\n",
              "      <th></th>\n",
              "      <th>items</th>\n",
              "      <th>support</th>\n",
              "    </tr>\n",
              "  </thead>\n",
              "  <tbody>\n",
              "    <tr>\n",
              "      <th>45</th>\n",
              "      <td>(MDEHRWE, MDGLIKE)</td>\n",
              "      <td>5</td>\n",
              "    </tr>\n",
              "    <tr>\n",
              "      <th>62</th>\n",
              "      <td>(MDEPART, MDGLIKE)</td>\n",
              "      <td>11</td>\n",
              "    </tr>\n",
              "    <tr>\n",
              "      <th>125</th>\n",
              "      <td>(MDGLIKE, MDEHRWE)</td>\n",
              "      <td>5</td>\n",
              "    </tr>\n",
              "    <tr>\n",
              "      <th>132</th>\n",
              "      <td>(MDGLIKE, MDEPART)</td>\n",
              "      <td>5</td>\n",
              "    </tr>\n",
              "    <tr>\n",
              "      <th>136</th>\n",
              "      <td>(MDGLIKE, MDGLIKE)</td>\n",
              "      <td>11</td>\n",
              "    </tr>\n",
              "  </tbody>\n",
              "</table>\n",
              "</div>\n",
              "      <button class=\"colab-df-convert\" onclick=\"convertToInteractive('df-8c4c9024-867a-4e3e-a45e-d6d0aea4db0b')\"\n",
              "              title=\"Convert this dataframe to an interactive table.\"\n",
              "              style=\"display:none;\">\n",
              "        \n",
              "  <svg xmlns=\"http://www.w3.org/2000/svg\" height=\"24px\"viewBox=\"0 0 24 24\"\n",
              "       width=\"24px\">\n",
              "    <path d=\"M0 0h24v24H0V0z\" fill=\"none\"/>\n",
              "    <path d=\"M18.56 5.44l.94 2.06.94-2.06 2.06-.94-2.06-.94-.94-2.06-.94 2.06-2.06.94zm-11 1L8.5 8.5l.94-2.06 2.06-.94-2.06-.94L8.5 2.5l-.94 2.06-2.06.94zm10 10l.94 2.06.94-2.06 2.06-.94-2.06-.94-.94-2.06-.94 2.06-2.06.94z\"/><path d=\"M17.41 7.96l-1.37-1.37c-.4-.4-.92-.59-1.43-.59-.52 0-1.04.2-1.43.59L10.3 9.45l-7.72 7.72c-.78.78-.78 2.05 0 2.83L4 21.41c.39.39.9.59 1.41.59.51 0 1.02-.2 1.41-.59l7.78-7.78 2.81-2.81c.8-.78.8-2.07 0-2.86zM5.41 20L4 18.59l7.72-7.72 1.47 1.35L5.41 20z\"/>\n",
              "  </svg>\n",
              "      </button>\n",
              "      \n",
              "  <style>\n",
              "    .colab-df-container {\n",
              "      display:flex;\n",
              "      flex-wrap:wrap;\n",
              "      gap: 12px;\n",
              "    }\n",
              "\n",
              "    .colab-df-convert {\n",
              "      background-color: #E8F0FE;\n",
              "      border: none;\n",
              "      border-radius: 50%;\n",
              "      cursor: pointer;\n",
              "      display: none;\n",
              "      fill: #1967D2;\n",
              "      height: 32px;\n",
              "      padding: 0 0 0 0;\n",
              "      width: 32px;\n",
              "    }\n",
              "\n",
              "    .colab-df-convert:hover {\n",
              "      background-color: #E2EBFA;\n",
              "      box-shadow: 0px 1px 2px rgba(60, 64, 67, 0.3), 0px 1px 3px 1px rgba(60, 64, 67, 0.15);\n",
              "      fill: #174EA6;\n",
              "    }\n",
              "\n",
              "    [theme=dark] .colab-df-convert {\n",
              "      background-color: #3B4455;\n",
              "      fill: #D2E3FC;\n",
              "    }\n",
              "\n",
              "    [theme=dark] .colab-df-convert:hover {\n",
              "      background-color: #434B5C;\n",
              "      box-shadow: 0px 1px 3px 1px rgba(0, 0, 0, 0.15);\n",
              "      filter: drop-shadow(0px 1px 2px rgba(0, 0, 0, 0.3));\n",
              "      fill: #FFFFFF;\n",
              "    }\n",
              "  </style>\n",
              "\n",
              "      <script>\n",
              "        const buttonEl =\n",
              "          document.querySelector('#df-8c4c9024-867a-4e3e-a45e-d6d0aea4db0b button.colab-df-convert');\n",
              "        buttonEl.style.display =\n",
              "          google.colab.kernel.accessAllowed ? 'block' : 'none';\n",
              "\n",
              "        async function convertToInteractive(key) {\n",
              "          const element = document.querySelector('#df-8c4c9024-867a-4e3e-a45e-d6d0aea4db0b');\n",
              "          const dataTable =\n",
              "            await google.colab.kernel.invokeFunction('convertToInteractive',\n",
              "                                                     [key], {});\n",
              "          if (!dataTable) return;\n",
              "\n",
              "          const docLinkHtml = 'Like what you see? Visit the ' +\n",
              "            '<a target=\"_blank\" href=https://colab.research.google.com/notebooks/data_table.ipynb>data table notebook</a>'\n",
              "            + ' to learn more about interactive tables.';\n",
              "          element.innerHTML = '';\n",
              "          dataTable['output_type'] = 'display_data';\n",
              "          await google.colab.output.renderOutput(dataTable, element);\n",
              "          const docLink = document.createElement('div');\n",
              "          docLink.innerHTML = docLinkHtml;\n",
              "          element.appendChild(docLink);\n",
              "        }\n",
              "      </script>\n",
              "    </div>\n",
              "  </div>\n",
              "  "
            ]
          },
          "metadata": {},
          "execution_count": 259
        }
      ]
    },
    {
      "cell_type": "code",
      "source": [
        "frequent_itemsets[(frequent_itemsets['items'].apply(lambda x: len(x)>=2 and 'MDGLIKE' in x)) & (frequent_itemsets['support']>=5)]['items'].apply(lambda x: [i for i in x if i != 'MDGLIKE'])"
      ],
      "metadata": {
        "colab": {
          "base_uri": "https://localhost:8080/"
        },
        "id": "dOfZQqsEgjcL",
        "outputId": "9d26d001-927e-4586-9fbc-609c970d6b12"
      },
      "execution_count": 260,
      "outputs": [
        {
          "output_type": "execute_result",
          "data": {
            "text/plain": [
              "45     [MDEHRWE]\n",
              "62     [MDEPART]\n",
              "125    [MDEHRWE]\n",
              "132    [MDEPART]\n",
              "136           []\n",
              "Name: items, dtype: object"
            ]
          },
          "metadata": {},
          "execution_count": 260
        }
      ]
    },
    {
      "cell_type": "code",
      "source": [
        "# support 열(column)의 데이터 타입을 int64에서 float으로 변환합니다.\n",
        "frequent_itemsets['support'] = frequent_itemsets['support'].astype('float')\n",
        "\n",
        "if 'itemsets' not in frequent_itemsets.columns:\n",
        "    frequent_itemsets = frequent_itemsets.reset_index().rename(columns={'items': 'itemsets'})"
      ],
      "metadata": {
        "id": "wHYThfi69Ky3"
      },
      "execution_count": 215,
      "outputs": []
    }
  ]
}