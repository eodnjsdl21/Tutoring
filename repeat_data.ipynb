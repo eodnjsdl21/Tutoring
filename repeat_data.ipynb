{
  "nbformat": 4,
  "nbformat_minor": 0,
  "metadata": {
    "colab": {
      "provenance": [],
      "authorship_tag": "ABX9TyOBvGCPUdBFxmwuua/KEpS3",
      "include_colab_link": true
    },
    "kernelspec": {
      "name": "python3",
      "display_name": "Python 3"
    },
    "language_info": {
      "name": "python"
    }
  },
  "cells": [
    {
      "cell_type": "markdown",
      "metadata": {
        "id": "view-in-github",
        "colab_type": "text"
      },
      "source": [
        "<a href=\"https://colab.research.google.com/github/eodnjsdl21/Tutoring/blob/main/repeat_data.ipynb\" target=\"_parent\"><img src=\"https://colab.research.google.com/assets/colab-badge.svg\" alt=\"Open In Colab\"/></a>"
      ]
    },
    {
      "cell_type": "code",
      "execution_count": null,
      "metadata": {
        "id": "sJCLJIyqcrHz"
      },
      "outputs": [],
      "source": [
        "for i in (range) df.colunms , i가 columns가 된다. +index:모든 인덱스를 출력하겠다.\n",
        "df[\"A\"] =df[\"A\"].str.replace ('a','b','c')\n",
        "\n",
        "if(30대 이상 그리고 성별 그리고 )\n",
        "loc, df.loc[i, label] = 1 \n",
        "iloc, \n",
        "\n",
        "df.loc[1, \"label\"], 1번째 부분의 행을 확인한다. \n",
        "\n",
        "for i in df.colums\n",
        "if df.loc[i, \"age\"]>=30 and ...\n",
        "  df.loc[i, \"label\"] = 1 #첫번째 라벨 행에 1을 넣겠다. \n",
        "else df.loc[i, \"label\"] =0\n",
        "\n",
        "loc[:30] 모든 columns에 대해서 30번째 행까지 확인한다. \n",
        "loc[\"columns\"][:30]\n",
        "\n",
        "for i in col, envmerate (df.columns) \n",
        "\n",
        "\n",
        "df.columns\n",
        "->[] 나오는 컬럼들을 위웨다 집어 넣은다. \n",
        "\n",
        "a\n",
        "b\n",
        "c\n",
        "d\n",
        "e\n",
        "...\n",
        "\n",
        "df[i] = str.replace \n",
        "\n"
      ]
    }
  ]
}